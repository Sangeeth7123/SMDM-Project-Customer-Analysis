{
 "cells": [
  {
   "cell_type": "code",
   "execution_count": 111,
   "id": "b4020a14",
   "metadata": {},
   "outputs": [],
   "source": [
    "import numpy as np\n",
    "import pandas as pd\n",
    "from pandas import Series, DataFrame\n",
    "pd.set_option('display.float_format', lambda x: '%.2f' % x)\n",
    "import scipy.stats as stats\n",
    "import matplotlib.pyplot as plt\n",
    "import seaborn as sns\n",
    "from scipy.stats             import ttest_1samp,ttest_ind, wilcoxon, shapiro, levene\n",
    "from statsmodels.stats.power import ttest_power"
   ]
  },
  {
   "cell_type": "markdown",
   "id": "a18c5d55",
   "metadata": {},
   "source": [
    "# Problem 1"
   ]
  },
  {
   "cell_type": "markdown",
   "id": "95184b35",
   "metadata": {},
   "source": [
    "## Wholesale Customers Analysis (Download Data)"
   ]
  },
  {
   "cell_type": "code",
   "execution_count": 3,
   "id": "64aedb8a",
   "metadata": {},
   "outputs": [
    {
     "data": {
      "text/html": [
       "<div>\n",
       "<style scoped>\n",
       "    .dataframe tbody tr th:only-of-type {\n",
       "        vertical-align: middle;\n",
       "    }\n",
       "\n",
       "    .dataframe tbody tr th {\n",
       "        vertical-align: top;\n",
       "    }\n",
       "\n",
       "    .dataframe thead th {\n",
       "        text-align: right;\n",
       "    }\n",
       "</style>\n",
       "<table border=\"1\" class=\"dataframe\">\n",
       "  <thead>\n",
       "    <tr style=\"text-align: right;\">\n",
       "      <th></th>\n",
       "      <th>Buyer/Spender</th>\n",
       "      <th>Channel</th>\n",
       "      <th>Region</th>\n",
       "      <th>Fresh</th>\n",
       "      <th>Milk</th>\n",
       "      <th>Grocery</th>\n",
       "      <th>Frozen</th>\n",
       "      <th>Detergents_Paper</th>\n",
       "      <th>Delicatessen</th>\n",
       "    </tr>\n",
       "  </thead>\n",
       "  <tbody>\n",
       "    <tr>\n",
       "      <th>0</th>\n",
       "      <td>1</td>\n",
       "      <td>Retail</td>\n",
       "      <td>Other</td>\n",
       "      <td>12669</td>\n",
       "      <td>9656</td>\n",
       "      <td>7561</td>\n",
       "      <td>214</td>\n",
       "      <td>2674</td>\n",
       "      <td>1338</td>\n",
       "    </tr>\n",
       "    <tr>\n",
       "      <th>1</th>\n",
       "      <td>2</td>\n",
       "      <td>Retail</td>\n",
       "      <td>Other</td>\n",
       "      <td>7057</td>\n",
       "      <td>9810</td>\n",
       "      <td>9568</td>\n",
       "      <td>1762</td>\n",
       "      <td>3293</td>\n",
       "      <td>1776</td>\n",
       "    </tr>\n",
       "    <tr>\n",
       "      <th>2</th>\n",
       "      <td>3</td>\n",
       "      <td>Retail</td>\n",
       "      <td>Other</td>\n",
       "      <td>6353</td>\n",
       "      <td>8808</td>\n",
       "      <td>7684</td>\n",
       "      <td>2405</td>\n",
       "      <td>3516</td>\n",
       "      <td>7844</td>\n",
       "    </tr>\n",
       "    <tr>\n",
       "      <th>3</th>\n",
       "      <td>4</td>\n",
       "      <td>Hotel</td>\n",
       "      <td>Other</td>\n",
       "      <td>13265</td>\n",
       "      <td>1196</td>\n",
       "      <td>4221</td>\n",
       "      <td>6404</td>\n",
       "      <td>507</td>\n",
       "      <td>1788</td>\n",
       "    </tr>\n",
       "    <tr>\n",
       "      <th>4</th>\n",
       "      <td>5</td>\n",
       "      <td>Retail</td>\n",
       "      <td>Other</td>\n",
       "      <td>22615</td>\n",
       "      <td>5410</td>\n",
       "      <td>7198</td>\n",
       "      <td>3915</td>\n",
       "      <td>1777</td>\n",
       "      <td>5185</td>\n",
       "    </tr>\n",
       "    <tr>\n",
       "      <th>...</th>\n",
       "      <td>...</td>\n",
       "      <td>...</td>\n",
       "      <td>...</td>\n",
       "      <td>...</td>\n",
       "      <td>...</td>\n",
       "      <td>...</td>\n",
       "      <td>...</td>\n",
       "      <td>...</td>\n",
       "      <td>...</td>\n",
       "    </tr>\n",
       "    <tr>\n",
       "      <th>435</th>\n",
       "      <td>436</td>\n",
       "      <td>Hotel</td>\n",
       "      <td>Other</td>\n",
       "      <td>29703</td>\n",
       "      <td>12051</td>\n",
       "      <td>16027</td>\n",
       "      <td>13135</td>\n",
       "      <td>182</td>\n",
       "      <td>2204</td>\n",
       "    </tr>\n",
       "    <tr>\n",
       "      <th>436</th>\n",
       "      <td>437</td>\n",
       "      <td>Hotel</td>\n",
       "      <td>Other</td>\n",
       "      <td>39228</td>\n",
       "      <td>1431</td>\n",
       "      <td>764</td>\n",
       "      <td>4510</td>\n",
       "      <td>93</td>\n",
       "      <td>2346</td>\n",
       "    </tr>\n",
       "    <tr>\n",
       "      <th>437</th>\n",
       "      <td>438</td>\n",
       "      <td>Retail</td>\n",
       "      <td>Other</td>\n",
       "      <td>14531</td>\n",
       "      <td>15488</td>\n",
       "      <td>30243</td>\n",
       "      <td>437</td>\n",
       "      <td>14841</td>\n",
       "      <td>1867</td>\n",
       "    </tr>\n",
       "    <tr>\n",
       "      <th>438</th>\n",
       "      <td>439</td>\n",
       "      <td>Hotel</td>\n",
       "      <td>Other</td>\n",
       "      <td>10290</td>\n",
       "      <td>1981</td>\n",
       "      <td>2232</td>\n",
       "      <td>1038</td>\n",
       "      <td>168</td>\n",
       "      <td>2125</td>\n",
       "    </tr>\n",
       "    <tr>\n",
       "      <th>439</th>\n",
       "      <td>440</td>\n",
       "      <td>Hotel</td>\n",
       "      <td>Other</td>\n",
       "      <td>2787</td>\n",
       "      <td>1698</td>\n",
       "      <td>2510</td>\n",
       "      <td>65</td>\n",
       "      <td>477</td>\n",
       "      <td>52</td>\n",
       "    </tr>\n",
       "  </tbody>\n",
       "</table>\n",
       "<p>440 rows × 9 columns</p>\n",
       "</div>"
      ],
      "text/plain": [
       "     Buyer/Spender Channel Region  Fresh   Milk  Grocery  Frozen  \\\n",
       "0                1  Retail  Other  12669   9656     7561     214   \n",
       "1                2  Retail  Other   7057   9810     9568    1762   \n",
       "2                3  Retail  Other   6353   8808     7684    2405   \n",
       "3                4   Hotel  Other  13265   1196     4221    6404   \n",
       "4                5  Retail  Other  22615   5410     7198    3915   \n",
       "..             ...     ...    ...    ...    ...      ...     ...   \n",
       "435            436   Hotel  Other  29703  12051    16027   13135   \n",
       "436            437   Hotel  Other  39228   1431      764    4510   \n",
       "437            438  Retail  Other  14531  15488    30243     437   \n",
       "438            439   Hotel  Other  10290   1981     2232    1038   \n",
       "439            440   Hotel  Other   2787   1698     2510      65   \n",
       "\n",
       "     Detergents_Paper  Delicatessen  \n",
       "0                2674          1338  \n",
       "1                3293          1776  \n",
       "2                3516          7844  \n",
       "3                 507          1788  \n",
       "4                1777          5185  \n",
       "..                ...           ...  \n",
       "435               182          2204  \n",
       "436                93          2346  \n",
       "437             14841          1867  \n",
       "438               168          2125  \n",
       "439               477            52  \n",
       "\n",
       "[440 rows x 9 columns]"
      ]
     },
     "execution_count": 3,
     "metadata": {},
     "output_type": "execute_result"
    }
   ],
   "source": [
    "df = pd.read_csv('Wholesale+Customers+Data.csv')\n",
    "df"
   ]
  },
  {
   "cell_type": "code",
   "execution_count": 4,
   "id": "03e101d6",
   "metadata": {},
   "outputs": [
    {
     "data": {
      "text/html": [
       "<div>\n",
       "<style scoped>\n",
       "    .dataframe tbody tr th:only-of-type {\n",
       "        vertical-align: middle;\n",
       "    }\n",
       "\n",
       "    .dataframe tbody tr th {\n",
       "        vertical-align: top;\n",
       "    }\n",
       "\n",
       "    .dataframe thead th {\n",
       "        text-align: right;\n",
       "    }\n",
       "</style>\n",
       "<table border=\"1\" class=\"dataframe\">\n",
       "  <thead>\n",
       "    <tr style=\"text-align: right;\">\n",
       "      <th></th>\n",
       "      <th>Buyer/Spender</th>\n",
       "      <th>Channel</th>\n",
       "      <th>Region</th>\n",
       "      <th>Fresh</th>\n",
       "      <th>Milk</th>\n",
       "      <th>Grocery</th>\n",
       "      <th>Frozen</th>\n",
       "      <th>Detergents_Paper</th>\n",
       "      <th>Delicatessen</th>\n",
       "    </tr>\n",
       "  </thead>\n",
       "  <tbody>\n",
       "    <tr>\n",
       "      <th>0</th>\n",
       "      <td>1</td>\n",
       "      <td>Retail</td>\n",
       "      <td>Other</td>\n",
       "      <td>12669</td>\n",
       "      <td>9656</td>\n",
       "      <td>7561</td>\n",
       "      <td>214</td>\n",
       "      <td>2674</td>\n",
       "      <td>1338</td>\n",
       "    </tr>\n",
       "    <tr>\n",
       "      <th>1</th>\n",
       "      <td>2</td>\n",
       "      <td>Retail</td>\n",
       "      <td>Other</td>\n",
       "      <td>7057</td>\n",
       "      <td>9810</td>\n",
       "      <td>9568</td>\n",
       "      <td>1762</td>\n",
       "      <td>3293</td>\n",
       "      <td>1776</td>\n",
       "    </tr>\n",
       "    <tr>\n",
       "      <th>2</th>\n",
       "      <td>3</td>\n",
       "      <td>Retail</td>\n",
       "      <td>Other</td>\n",
       "      <td>6353</td>\n",
       "      <td>8808</td>\n",
       "      <td>7684</td>\n",
       "      <td>2405</td>\n",
       "      <td>3516</td>\n",
       "      <td>7844</td>\n",
       "    </tr>\n",
       "    <tr>\n",
       "      <th>3</th>\n",
       "      <td>4</td>\n",
       "      <td>Hotel</td>\n",
       "      <td>Other</td>\n",
       "      <td>13265</td>\n",
       "      <td>1196</td>\n",
       "      <td>4221</td>\n",
       "      <td>6404</td>\n",
       "      <td>507</td>\n",
       "      <td>1788</td>\n",
       "    </tr>\n",
       "    <tr>\n",
       "      <th>4</th>\n",
       "      <td>5</td>\n",
       "      <td>Retail</td>\n",
       "      <td>Other</td>\n",
       "      <td>22615</td>\n",
       "      <td>5410</td>\n",
       "      <td>7198</td>\n",
       "      <td>3915</td>\n",
       "      <td>1777</td>\n",
       "      <td>5185</td>\n",
       "    </tr>\n",
       "  </tbody>\n",
       "</table>\n",
       "</div>"
      ],
      "text/plain": [
       "   Buyer/Spender Channel Region  Fresh  Milk  Grocery  Frozen  \\\n",
       "0              1  Retail  Other  12669  9656     7561     214   \n",
       "1              2  Retail  Other   7057  9810     9568    1762   \n",
       "2              3  Retail  Other   6353  8808     7684    2405   \n",
       "3              4   Hotel  Other  13265  1196     4221    6404   \n",
       "4              5  Retail  Other  22615  5410     7198    3915   \n",
       "\n",
       "   Detergents_Paper  Delicatessen  \n",
       "0              2674          1338  \n",
       "1              3293          1776  \n",
       "2              3516          7844  \n",
       "3               507          1788  \n",
       "4              1777          5185  "
      ]
     },
     "execution_count": 4,
     "metadata": {},
     "output_type": "execute_result"
    }
   ],
   "source": [
    "df.head()"
   ]
  },
  {
   "cell_type": "code",
   "execution_count": 5,
   "id": "75e3ca17",
   "metadata": {},
   "outputs": [
    {
     "name": "stdout",
     "output_type": "stream",
     "text": [
      "<class 'pandas.core.frame.DataFrame'>\n",
      "RangeIndex: 440 entries, 0 to 439\n",
      "Data columns (total 9 columns):\n",
      " #   Column            Non-Null Count  Dtype \n",
      "---  ------            --------------  ----- \n",
      " 0   Buyer/Spender     440 non-null    int64 \n",
      " 1   Channel           440 non-null    object\n",
      " 2   Region            440 non-null    object\n",
      " 3   Fresh             440 non-null    int64 \n",
      " 4   Milk              440 non-null    int64 \n",
      " 5   Grocery           440 non-null    int64 \n",
      " 6   Frozen            440 non-null    int64 \n",
      " 7   Detergents_Paper  440 non-null    int64 \n",
      " 8   Delicatessen      440 non-null    int64 \n",
      "dtypes: int64(7), object(2)\n",
      "memory usage: 31.1+ KB\n"
     ]
    }
   ],
   "source": [
    "df.info()"
   ]
  },
  {
   "cell_type": "markdown",
   "id": "5b90fb83",
   "metadata": {},
   "source": [
    "### A wholesale distributor operating in different regions of Portugal has information on annual spending of several items in their stores across different regions and channels. The data consists of 440 large retailers’ annual spending on 6 different varieties of products in 3 different regions (Lisbon, Oporto, Other) and across different sales channel (Hotel, Retail)."
   ]
  },
  {
   "cell_type": "markdown",
   "id": "e7015983",
   "metadata": {},
   "source": [
    "### 1.1 Use methods of descriptive statistics to summarize data. Which Region and which Channel spent the most? Which Region and which Channel spent the least?"
   ]
  },
  {
   "cell_type": "code",
   "execution_count": 7,
   "id": "46bad76b",
   "metadata": {},
   "outputs": [
    {
     "name": "stdout",
     "output_type": "stream",
     "text": [
      "Column Name :  Fresh\n",
      "Minimum Value :  3\n",
      "25% =  3127.75\n",
      "50% or Median=  8504.0\n",
      "75% =  16933.75\n",
      "Maximum Value =  112151\n",
      "IQR =  13806.0\n",
      "----------------------------------\n",
      "Column Name :  Milk\n",
      "Minimum Value :  55\n",
      "25% =  1533.0\n",
      "50% or Median=  3627.0\n",
      "75% =  7190.25\n",
      "Maximum Value =  73498\n",
      "IQR =  5657.25\n",
      "----------------------------------\n",
      "Column Name :  Grocery\n",
      "Minimum Value :  3\n",
      "25% =  2153.0\n",
      "50% or Median=  4755.5\n",
      "75% =  10655.75\n",
      "Maximum Value =  92780\n",
      "IQR =  8502.75\n",
      "----------------------------------\n",
      "Column Name :  Frozen\n",
      "Minimum Value :  25\n",
      "25% =  742.25\n",
      "50% or Median=  1526.0\n",
      "75% =  3554.25\n",
      "Maximum Value =  60869\n",
      "IQR =  2812.0\n",
      "----------------------------------\n",
      "Column Name :  Detergents_Paper\n",
      "Minimum Value :  3\n",
      "25% =  256.75\n",
      "50% or Median=  816.5\n",
      "75% =  3922.0\n",
      "Maximum Value =  40827\n",
      "IQR =  3665.25\n",
      "----------------------------------\n",
      "Column Name :  Delicatessen\n",
      "Minimum Value :  3\n",
      "25% =  408.25\n",
      "50% or Median=  965.5\n",
      "75% =  1820.25\n",
      "Maximum Value =  47943\n",
      "IQR =  1412.0\n",
      "----------------------------------\n"
     ]
    }
   ],
   "source": [
    "for column in df[['Fresh', 'Milk','Grocery','Frozen','Detergents_Paper','Delicatessen']]:\n",
    "    columnSeriesObj = df[column]\n",
    "    print('Column Name : ', column)\n",
    "    print('Minimum Value : ', columnSeriesObj.min())\n",
    "    print('25% = ',columnSeriesObj.quantile(0.25))\n",
    "    print('50% or Median= ',columnSeriesObj.quantile(0.5))\n",
    "    print('75% = ',columnSeriesObj.quantile(0.75))\n",
    "    print('Maximum Value = ',columnSeriesObj.max())\n",
    "    print('IQR = ',stats.iqr(columnSeriesObj))\n",
    "    print('----------------------------------')"
   ]
  },
  {
   "cell_type": "code",
   "execution_count": 6,
   "id": "853c1960",
   "metadata": {},
   "outputs": [
    {
     "data": {
      "text/html": [
       "<div>\n",
       "<style scoped>\n",
       "    .dataframe tbody tr th:only-of-type {\n",
       "        vertical-align: middle;\n",
       "    }\n",
       "\n",
       "    .dataframe tbody tr th {\n",
       "        vertical-align: top;\n",
       "    }\n",
       "\n",
       "    .dataframe thead th {\n",
       "        text-align: right;\n",
       "    }\n",
       "</style>\n",
       "<table border=\"1\" class=\"dataframe\">\n",
       "  <thead>\n",
       "    <tr style=\"text-align: right;\">\n",
       "      <th></th>\n",
       "      <th>count</th>\n",
       "      <th>unique</th>\n",
       "      <th>top</th>\n",
       "      <th>freq</th>\n",
       "      <th>mean</th>\n",
       "      <th>std</th>\n",
       "      <th>min</th>\n",
       "      <th>25%</th>\n",
       "      <th>50%</th>\n",
       "      <th>75%</th>\n",
       "      <th>max</th>\n",
       "    </tr>\n",
       "  </thead>\n",
       "  <tbody>\n",
       "    <tr>\n",
       "      <th>Buyer/Spender</th>\n",
       "      <td>440.00</td>\n",
       "      <td>NaN</td>\n",
       "      <td>NaN</td>\n",
       "      <td>NaN</td>\n",
       "      <td>220.50</td>\n",
       "      <td>127.16</td>\n",
       "      <td>1.00</td>\n",
       "      <td>110.75</td>\n",
       "      <td>220.50</td>\n",
       "      <td>330.25</td>\n",
       "      <td>440.00</td>\n",
       "    </tr>\n",
       "    <tr>\n",
       "      <th>Channel</th>\n",
       "      <td>440</td>\n",
       "      <td>2</td>\n",
       "      <td>Hotel</td>\n",
       "      <td>298</td>\n",
       "      <td>NaN</td>\n",
       "      <td>NaN</td>\n",
       "      <td>NaN</td>\n",
       "      <td>NaN</td>\n",
       "      <td>NaN</td>\n",
       "      <td>NaN</td>\n",
       "      <td>NaN</td>\n",
       "    </tr>\n",
       "    <tr>\n",
       "      <th>Region</th>\n",
       "      <td>440</td>\n",
       "      <td>3</td>\n",
       "      <td>Other</td>\n",
       "      <td>316</td>\n",
       "      <td>NaN</td>\n",
       "      <td>NaN</td>\n",
       "      <td>NaN</td>\n",
       "      <td>NaN</td>\n",
       "      <td>NaN</td>\n",
       "      <td>NaN</td>\n",
       "      <td>NaN</td>\n",
       "    </tr>\n",
       "    <tr>\n",
       "      <th>Fresh</th>\n",
       "      <td>440.00</td>\n",
       "      <td>NaN</td>\n",
       "      <td>NaN</td>\n",
       "      <td>NaN</td>\n",
       "      <td>12000.30</td>\n",
       "      <td>12647.33</td>\n",
       "      <td>3.00</td>\n",
       "      <td>3127.75</td>\n",
       "      <td>8504.00</td>\n",
       "      <td>16933.75</td>\n",
       "      <td>112151.00</td>\n",
       "    </tr>\n",
       "    <tr>\n",
       "      <th>Milk</th>\n",
       "      <td>440.00</td>\n",
       "      <td>NaN</td>\n",
       "      <td>NaN</td>\n",
       "      <td>NaN</td>\n",
       "      <td>5796.27</td>\n",
       "      <td>7380.38</td>\n",
       "      <td>55.00</td>\n",
       "      <td>1533.00</td>\n",
       "      <td>3627.00</td>\n",
       "      <td>7190.25</td>\n",
       "      <td>73498.00</td>\n",
       "    </tr>\n",
       "    <tr>\n",
       "      <th>Grocery</th>\n",
       "      <td>440.00</td>\n",
       "      <td>NaN</td>\n",
       "      <td>NaN</td>\n",
       "      <td>NaN</td>\n",
       "      <td>7951.28</td>\n",
       "      <td>9503.16</td>\n",
       "      <td>3.00</td>\n",
       "      <td>2153.00</td>\n",
       "      <td>4755.50</td>\n",
       "      <td>10655.75</td>\n",
       "      <td>92780.00</td>\n",
       "    </tr>\n",
       "    <tr>\n",
       "      <th>Frozen</th>\n",
       "      <td>440.00</td>\n",
       "      <td>NaN</td>\n",
       "      <td>NaN</td>\n",
       "      <td>NaN</td>\n",
       "      <td>3071.93</td>\n",
       "      <td>4854.67</td>\n",
       "      <td>25.00</td>\n",
       "      <td>742.25</td>\n",
       "      <td>1526.00</td>\n",
       "      <td>3554.25</td>\n",
       "      <td>60869.00</td>\n",
       "    </tr>\n",
       "    <tr>\n",
       "      <th>Detergents_Paper</th>\n",
       "      <td>440.00</td>\n",
       "      <td>NaN</td>\n",
       "      <td>NaN</td>\n",
       "      <td>NaN</td>\n",
       "      <td>2881.49</td>\n",
       "      <td>4767.85</td>\n",
       "      <td>3.00</td>\n",
       "      <td>256.75</td>\n",
       "      <td>816.50</td>\n",
       "      <td>3922.00</td>\n",
       "      <td>40827.00</td>\n",
       "    </tr>\n",
       "    <tr>\n",
       "      <th>Delicatessen</th>\n",
       "      <td>440.00</td>\n",
       "      <td>NaN</td>\n",
       "      <td>NaN</td>\n",
       "      <td>NaN</td>\n",
       "      <td>1524.87</td>\n",
       "      <td>2820.11</td>\n",
       "      <td>3.00</td>\n",
       "      <td>408.25</td>\n",
       "      <td>965.50</td>\n",
       "      <td>1820.25</td>\n",
       "      <td>47943.00</td>\n",
       "    </tr>\n",
       "  </tbody>\n",
       "</table>\n",
       "</div>"
      ],
      "text/plain": [
       "                  count unique    top freq     mean      std   min     25%  \\\n",
       "Buyer/Spender    440.00    NaN    NaN  NaN   220.50   127.16  1.00  110.75   \n",
       "Channel             440      2  Hotel  298      NaN      NaN   NaN     NaN   \n",
       "Region              440      3  Other  316      NaN      NaN   NaN     NaN   \n",
       "Fresh            440.00    NaN    NaN  NaN 12000.30 12647.33  3.00 3127.75   \n",
       "Milk             440.00    NaN    NaN  NaN  5796.27  7380.38 55.00 1533.00   \n",
       "Grocery          440.00    NaN    NaN  NaN  7951.28  9503.16  3.00 2153.00   \n",
       "Frozen           440.00    NaN    NaN  NaN  3071.93  4854.67 25.00  742.25   \n",
       "Detergents_Paper 440.00    NaN    NaN  NaN  2881.49  4767.85  3.00  256.75   \n",
       "Delicatessen     440.00    NaN    NaN  NaN  1524.87  2820.11  3.00  408.25   \n",
       "\n",
       "                     50%      75%       max  \n",
       "Buyer/Spender     220.50   330.25    440.00  \n",
       "Channel              NaN      NaN       NaN  \n",
       "Region               NaN      NaN       NaN  \n",
       "Fresh            8504.00 16933.75 112151.00  \n",
       "Milk             3627.00  7190.25  73498.00  \n",
       "Grocery          4755.50 10655.75  92780.00  \n",
       "Frozen           1526.00  3554.25  60869.00  \n",
       "Detergents_Paper  816.50  3922.00  40827.00  \n",
       "Delicatessen      965.50  1820.25  47943.00  "
      ]
     },
     "execution_count": 6,
     "metadata": {},
     "output_type": "execute_result"
    }
   ],
   "source": [
    "df.describe(include='all').T"
   ]
  },
  {
   "cell_type": "code",
   "execution_count": 8,
   "id": "7f93f6e2",
   "metadata": {},
   "outputs": [
    {
     "data": {
      "text/html": [
       "<div>\n",
       "<style scoped>\n",
       "    .dataframe tbody tr th:only-of-type {\n",
       "        vertical-align: middle;\n",
       "    }\n",
       "\n",
       "    .dataframe tbody tr th {\n",
       "        vertical-align: top;\n",
       "    }\n",
       "\n",
       "    .dataframe thead th {\n",
       "        text-align: right;\n",
       "    }\n",
       "</style>\n",
       "<table border=\"1\" class=\"dataframe\">\n",
       "  <thead>\n",
       "    <tr style=\"text-align: right;\">\n",
       "      <th></th>\n",
       "      <th>Buyer/Spender</th>\n",
       "      <th>Channel</th>\n",
       "      <th>Region</th>\n",
       "      <th>Fresh</th>\n",
       "      <th>Milk</th>\n",
       "      <th>Grocery</th>\n",
       "      <th>Frozen</th>\n",
       "      <th>Detergents_Paper</th>\n",
       "      <th>Delicatessen</th>\n",
       "      <th>Total_spending</th>\n",
       "    </tr>\n",
       "  </thead>\n",
       "  <tbody>\n",
       "    <tr>\n",
       "      <th>0</th>\n",
       "      <td>1</td>\n",
       "      <td>Retail</td>\n",
       "      <td>Other</td>\n",
       "      <td>12669</td>\n",
       "      <td>9656</td>\n",
       "      <td>7561</td>\n",
       "      <td>214</td>\n",
       "      <td>2674</td>\n",
       "      <td>1338</td>\n",
       "      <td>34112</td>\n",
       "    </tr>\n",
       "    <tr>\n",
       "      <th>1</th>\n",
       "      <td>2</td>\n",
       "      <td>Retail</td>\n",
       "      <td>Other</td>\n",
       "      <td>7057</td>\n",
       "      <td>9810</td>\n",
       "      <td>9568</td>\n",
       "      <td>1762</td>\n",
       "      <td>3293</td>\n",
       "      <td>1776</td>\n",
       "      <td>33266</td>\n",
       "    </tr>\n",
       "    <tr>\n",
       "      <th>2</th>\n",
       "      <td>3</td>\n",
       "      <td>Retail</td>\n",
       "      <td>Other</td>\n",
       "      <td>6353</td>\n",
       "      <td>8808</td>\n",
       "      <td>7684</td>\n",
       "      <td>2405</td>\n",
       "      <td>3516</td>\n",
       "      <td>7844</td>\n",
       "      <td>36610</td>\n",
       "    </tr>\n",
       "    <tr>\n",
       "      <th>3</th>\n",
       "      <td>4</td>\n",
       "      <td>Hotel</td>\n",
       "      <td>Other</td>\n",
       "      <td>13265</td>\n",
       "      <td>1196</td>\n",
       "      <td>4221</td>\n",
       "      <td>6404</td>\n",
       "      <td>507</td>\n",
       "      <td>1788</td>\n",
       "      <td>27381</td>\n",
       "    </tr>\n",
       "    <tr>\n",
       "      <th>4</th>\n",
       "      <td>5</td>\n",
       "      <td>Retail</td>\n",
       "      <td>Other</td>\n",
       "      <td>22615</td>\n",
       "      <td>5410</td>\n",
       "      <td>7198</td>\n",
       "      <td>3915</td>\n",
       "      <td>1777</td>\n",
       "      <td>5185</td>\n",
       "      <td>46100</td>\n",
       "    </tr>\n",
       "    <tr>\n",
       "      <th>...</th>\n",
       "      <td>...</td>\n",
       "      <td>...</td>\n",
       "      <td>...</td>\n",
       "      <td>...</td>\n",
       "      <td>...</td>\n",
       "      <td>...</td>\n",
       "      <td>...</td>\n",
       "      <td>...</td>\n",
       "      <td>...</td>\n",
       "      <td>...</td>\n",
       "    </tr>\n",
       "    <tr>\n",
       "      <th>435</th>\n",
       "      <td>436</td>\n",
       "      <td>Hotel</td>\n",
       "      <td>Other</td>\n",
       "      <td>29703</td>\n",
       "      <td>12051</td>\n",
       "      <td>16027</td>\n",
       "      <td>13135</td>\n",
       "      <td>182</td>\n",
       "      <td>2204</td>\n",
       "      <td>73302</td>\n",
       "    </tr>\n",
       "    <tr>\n",
       "      <th>436</th>\n",
       "      <td>437</td>\n",
       "      <td>Hotel</td>\n",
       "      <td>Other</td>\n",
       "      <td>39228</td>\n",
       "      <td>1431</td>\n",
       "      <td>764</td>\n",
       "      <td>4510</td>\n",
       "      <td>93</td>\n",
       "      <td>2346</td>\n",
       "      <td>48372</td>\n",
       "    </tr>\n",
       "    <tr>\n",
       "      <th>437</th>\n",
       "      <td>438</td>\n",
       "      <td>Retail</td>\n",
       "      <td>Other</td>\n",
       "      <td>14531</td>\n",
       "      <td>15488</td>\n",
       "      <td>30243</td>\n",
       "      <td>437</td>\n",
       "      <td>14841</td>\n",
       "      <td>1867</td>\n",
       "      <td>77407</td>\n",
       "    </tr>\n",
       "    <tr>\n",
       "      <th>438</th>\n",
       "      <td>439</td>\n",
       "      <td>Hotel</td>\n",
       "      <td>Other</td>\n",
       "      <td>10290</td>\n",
       "      <td>1981</td>\n",
       "      <td>2232</td>\n",
       "      <td>1038</td>\n",
       "      <td>168</td>\n",
       "      <td>2125</td>\n",
       "      <td>17834</td>\n",
       "    </tr>\n",
       "    <tr>\n",
       "      <th>439</th>\n",
       "      <td>440</td>\n",
       "      <td>Hotel</td>\n",
       "      <td>Other</td>\n",
       "      <td>2787</td>\n",
       "      <td>1698</td>\n",
       "      <td>2510</td>\n",
       "      <td>65</td>\n",
       "      <td>477</td>\n",
       "      <td>52</td>\n",
       "      <td>7589</td>\n",
       "    </tr>\n",
       "  </tbody>\n",
       "</table>\n",
       "<p>440 rows × 10 columns</p>\n",
       "</div>"
      ],
      "text/plain": [
       "     Buyer/Spender Channel Region  Fresh   Milk  Grocery  Frozen  \\\n",
       "0                1  Retail  Other  12669   9656     7561     214   \n",
       "1                2  Retail  Other   7057   9810     9568    1762   \n",
       "2                3  Retail  Other   6353   8808     7684    2405   \n",
       "3                4   Hotel  Other  13265   1196     4221    6404   \n",
       "4                5  Retail  Other  22615   5410     7198    3915   \n",
       "..             ...     ...    ...    ...    ...      ...     ...   \n",
       "435            436   Hotel  Other  29703  12051    16027   13135   \n",
       "436            437   Hotel  Other  39228   1431      764    4510   \n",
       "437            438  Retail  Other  14531  15488    30243     437   \n",
       "438            439   Hotel  Other  10290   1981     2232    1038   \n",
       "439            440   Hotel  Other   2787   1698     2510      65   \n",
       "\n",
       "     Detergents_Paper  Delicatessen  Total_spending  \n",
       "0                2674          1338           34112  \n",
       "1                3293          1776           33266  \n",
       "2                3516          7844           36610  \n",
       "3                 507          1788           27381  \n",
       "4                1777          5185           46100  \n",
       "..                ...           ...             ...  \n",
       "435               182          2204           73302  \n",
       "436                93          2346           48372  \n",
       "437             14841          1867           77407  \n",
       "438               168          2125           17834  \n",
       "439               477            52            7589  \n",
       "\n",
       "[440 rows x 10 columns]"
      ]
     },
     "execution_count": 8,
     "metadata": {},
     "output_type": "execute_result"
    }
   ],
   "source": [
    "df['Total_spending'] = df['Fresh'] + df['Milk'] + df['Grocery'] + df['Frozen'] + df['Detergents_Paper'] + df['Delicatessen']\n",
    "df #adding new column total spending"
   ]
  },
  {
   "cell_type": "code",
   "execution_count": 9,
   "id": "cea2d9be",
   "metadata": {},
   "outputs": [
    {
     "data": {
      "text/html": [
       "<div>\n",
       "<style scoped>\n",
       "    .dataframe tbody tr th:only-of-type {\n",
       "        vertical-align: middle;\n",
       "    }\n",
       "\n",
       "    .dataframe tbody tr th {\n",
       "        vertical-align: top;\n",
       "    }\n",
       "\n",
       "    .dataframe thead th {\n",
       "        text-align: right;\n",
       "    }\n",
       "</style>\n",
       "<table border=\"1\" class=\"dataframe\">\n",
       "  <thead>\n",
       "    <tr style=\"text-align: right;\">\n",
       "      <th></th>\n",
       "      <th>Buyer/Spender</th>\n",
       "      <th>Fresh</th>\n",
       "      <th>Milk</th>\n",
       "      <th>Grocery</th>\n",
       "      <th>Frozen</th>\n",
       "      <th>Detergents_Paper</th>\n",
       "      <th>Delicatessen</th>\n",
       "      <th>Total_spending</th>\n",
       "    </tr>\n",
       "    <tr>\n",
       "      <th>Region</th>\n",
       "      <th></th>\n",
       "      <th></th>\n",
       "      <th></th>\n",
       "      <th></th>\n",
       "      <th></th>\n",
       "      <th></th>\n",
       "      <th></th>\n",
       "      <th></th>\n",
       "    </tr>\n",
       "  </thead>\n",
       "  <tbody>\n",
       "    <tr>\n",
       "      <th>Lisbon</th>\n",
       "      <td>18095</td>\n",
       "      <td>854833</td>\n",
       "      <td>422454</td>\n",
       "      <td>570037</td>\n",
       "      <td>231026</td>\n",
       "      <td>204136</td>\n",
       "      <td>104327</td>\n",
       "      <td>2386813</td>\n",
       "    </tr>\n",
       "    <tr>\n",
       "      <th>Oporto</th>\n",
       "      <td>14899</td>\n",
       "      <td>464721</td>\n",
       "      <td>239144</td>\n",
       "      <td>433274</td>\n",
       "      <td>190132</td>\n",
       "      <td>173311</td>\n",
       "      <td>54506</td>\n",
       "      <td>1555088</td>\n",
       "    </tr>\n",
       "    <tr>\n",
       "      <th>Other</th>\n",
       "      <td>64026</td>\n",
       "      <td>3960577</td>\n",
       "      <td>1888759</td>\n",
       "      <td>2495251</td>\n",
       "      <td>930492</td>\n",
       "      <td>890410</td>\n",
       "      <td>512110</td>\n",
       "      <td>10677599</td>\n",
       "    </tr>\n",
       "  </tbody>\n",
       "</table>\n",
       "</div>"
      ],
      "text/plain": [
       "        Buyer/Spender    Fresh     Milk  Grocery  Frozen  Detergents_Paper  \\\n",
       "Region                                                                       \n",
       "Lisbon          18095   854833   422454   570037  231026            204136   \n",
       "Oporto          14899   464721   239144   433274  190132            173311   \n",
       "Other           64026  3960577  1888759  2495251  930492            890410   \n",
       "\n",
       "        Delicatessen  Total_spending  \n",
       "Region                                \n",
       "Lisbon        104327         2386813  \n",
       "Oporto         54506         1555088  \n",
       "Other         512110        10677599  "
      ]
     },
     "execution_count": 9,
     "metadata": {},
     "output_type": "execute_result"
    }
   ],
   "source": [
    "df_region=df.groupby([\"Region\"]).sum() #creating new dataset with region\n",
    "df_region"
   ]
  },
  {
   "cell_type": "code",
   "execution_count": 10,
   "id": "05c85785",
   "metadata": {},
   "outputs": [
    {
     "data": {
      "text/html": [
       "<div>\n",
       "<style scoped>\n",
       "    .dataframe tbody tr th:only-of-type {\n",
       "        vertical-align: middle;\n",
       "    }\n",
       "\n",
       "    .dataframe tbody tr th {\n",
       "        vertical-align: top;\n",
       "    }\n",
       "\n",
       "    .dataframe thead th {\n",
       "        text-align: right;\n",
       "    }\n",
       "</style>\n",
       "<table border=\"1\" class=\"dataframe\">\n",
       "  <thead>\n",
       "    <tr style=\"text-align: right;\">\n",
       "      <th></th>\n",
       "      <th>Buyer/Spender</th>\n",
       "      <th>Fresh</th>\n",
       "      <th>Milk</th>\n",
       "      <th>Grocery</th>\n",
       "      <th>Frozen</th>\n",
       "      <th>Detergents_Paper</th>\n",
       "      <th>Delicatessen</th>\n",
       "      <th>Total_spending</th>\n",
       "    </tr>\n",
       "    <tr>\n",
       "      <th>Channel</th>\n",
       "      <th></th>\n",
       "      <th></th>\n",
       "      <th></th>\n",
       "      <th></th>\n",
       "      <th></th>\n",
       "      <th></th>\n",
       "      <th></th>\n",
       "      <th></th>\n",
       "    </tr>\n",
       "  </thead>\n",
       "  <tbody>\n",
       "    <tr>\n",
       "      <th>Hotel</th>\n",
       "      <td>71034</td>\n",
       "      <td>4015717</td>\n",
       "      <td>1028614</td>\n",
       "      <td>1180717</td>\n",
       "      <td>1116979</td>\n",
       "      <td>235587</td>\n",
       "      <td>421955</td>\n",
       "      <td>7999569</td>\n",
       "    </tr>\n",
       "    <tr>\n",
       "      <th>Retail</th>\n",
       "      <td>25986</td>\n",
       "      <td>1264414</td>\n",
       "      <td>1521743</td>\n",
       "      <td>2317845</td>\n",
       "      <td>234671</td>\n",
       "      <td>1032270</td>\n",
       "      <td>248988</td>\n",
       "      <td>6619931</td>\n",
       "    </tr>\n",
       "  </tbody>\n",
       "</table>\n",
       "</div>"
      ],
      "text/plain": [
       "         Buyer/Spender    Fresh     Milk  Grocery   Frozen  Detergents_Paper  \\\n",
       "Channel                                                                        \n",
       "Hotel            71034  4015717  1028614  1180717  1116979            235587   \n",
       "Retail           25986  1264414  1521743  2317845   234671           1032270   \n",
       "\n",
       "         Delicatessen  Total_spending  \n",
       "Channel                                \n",
       "Hotel          421955         7999569  \n",
       "Retail         248988         6619931  "
      ]
     },
     "execution_count": 10,
     "metadata": {},
     "output_type": "execute_result"
    }
   ],
   "source": [
    "df_channel=df.groupby(df[\"Channel\"]).sum() #creating new dataset with channel\n",
    "df_channel"
   ]
  },
  {
   "cell_type": "code",
   "execution_count": 11,
   "id": "d9ef8a29",
   "metadata": {},
   "outputs": [
    {
     "data": {
      "image/png": "[encoded data removed]",
      "text/plain": [
       "<Figure size 720x504 with 1 Axes>"
      ]
     },
     "metadata": {
      "needs_background": "light"
     },
     "output_type": "display_data"
    }
   ],
   "source": [
    "df_region.plot(kind='bar',figsize=(10,7));"
   ]
  },
  {
   "cell_type": "code",
   "execution_count": 12,
   "id": "ffa6c7a2",
   "metadata": {},
   "outputs": [
    {
     "data": {
      "image/png": "[encoded data removed]",
      "text/plain": [
       "<Figure size 720x504 with 1 Axes>"
      ]
     },
     "metadata": {
      "needs_background": "light"
     },
     "output_type": "display_data"
    }
   ],
   "source": [
    "df_channel.plot(kind='bar',figsize=(10,7));"
   ]
  },
  {
   "cell_type": "code",
   "execution_count": 13,
   "id": "5a0fcc78",
   "metadata": {},
   "outputs": [
    {
     "data": {
      "text/html": [
       "<div>\n",
       "<style scoped>\n",
       "    .dataframe tbody tr th:only-of-type {\n",
       "        vertical-align: middle;\n",
       "    }\n",
       "\n",
       "    .dataframe tbody tr th {\n",
       "        vertical-align: top;\n",
       "    }\n",
       "\n",
       "    .dataframe thead th {\n",
       "        text-align: right;\n",
       "    }\n",
       "</style>\n",
       "<table border=\"1\" class=\"dataframe\">\n",
       "  <thead>\n",
       "    <tr style=\"text-align: right;\">\n",
       "      <th></th>\n",
       "      <th></th>\n",
       "      <th>Total_spending</th>\n",
       "    </tr>\n",
       "    <tr>\n",
       "      <th>Region</th>\n",
       "      <th>Channel</th>\n",
       "      <th></th>\n",
       "    </tr>\n",
       "  </thead>\n",
       "  <tbody>\n",
       "    <tr>\n",
       "      <th rowspan=\"2\" valign=\"top\">Lisbon</th>\n",
       "      <th>Hotel</th>\n",
       "      <td>1538342</td>\n",
       "    </tr>\n",
       "    <tr>\n",
       "      <th>Retail</th>\n",
       "      <td>848471</td>\n",
       "    </tr>\n",
       "    <tr>\n",
       "      <th rowspan=\"2\" valign=\"top\">Oporto</th>\n",
       "      <th>Hotel</th>\n",
       "      <td>719150</td>\n",
       "    </tr>\n",
       "    <tr>\n",
       "      <th>Retail</th>\n",
       "      <td>835938</td>\n",
       "    </tr>\n",
       "    <tr>\n",
       "      <th rowspan=\"2\" valign=\"top\">Other</th>\n",
       "      <th>Hotel</th>\n",
       "      <td>5742077</td>\n",
       "    </tr>\n",
       "    <tr>\n",
       "      <th>Retail</th>\n",
       "      <td>4935522</td>\n",
       "    </tr>\n",
       "  </tbody>\n",
       "</table>\n",
       "</div>"
      ],
      "text/plain": [
       "                Total_spending\n",
       "Region Channel                \n",
       "Lisbon Hotel           1538342\n",
       "       Retail           848471\n",
       "Oporto Hotel            719150\n",
       "       Retail           835938\n",
       "Other  Hotel           5742077\n",
       "       Retail          4935522"
      ]
     },
     "execution_count": 13,
     "metadata": {},
     "output_type": "execute_result"
    }
   ],
   "source": [
    "df_channel_updated=pd.DataFrame(df.groupby([\"Region\",\"Channel\"])['Total_spending'].sum())\n",
    "df_channel_updated #creating new dataset with channel w.r.t.total spending"
   ]
  },
  {
   "cell_type": "code",
   "execution_count": 15,
   "id": "43384628",
   "metadata": {},
   "outputs": [
    {
     "data": {
      "image/png": "[encoded data removed]",
      "text/plain": [
       "<Figure size 720x504 with 1 Axes>"
      ]
     },
     "metadata": {
      "needs_background": "light"
     },
     "output_type": "display_data"
    }
   ],
   "source": [
    "df_channel_updated.plot(kind='bar',figsize=(10,7));"
   ]
  },
  {
   "cell_type": "markdown",
   "id": "2d5440f5",
   "metadata": {},
   "source": [
    "### 1.2 There are 6 different varieties of items that are considered. Describe and comment/explain all the varieties across Region and Channel? Provide a detailed justification for your answer."
   ]
  },
  {
   "cell_type": "code",
   "execution_count": 14,
   "id": "28ed29bb",
   "metadata": {},
   "outputs": [
    {
     "data": {
      "text/html": [
       "<div>\n",
       "<style scoped>\n",
       "    .dataframe tbody tr th:only-of-type {\n",
       "        vertical-align: middle;\n",
       "    }\n",
       "\n",
       "    .dataframe tbody tr th {\n",
       "        vertical-align: top;\n",
       "    }\n",
       "\n",
       "    .dataframe thead th {\n",
       "        text-align: right;\n",
       "    }\n",
       "</style>\n",
       "<table border=\"1\" class=\"dataframe\">\n",
       "  <thead>\n",
       "    <tr style=\"text-align: right;\">\n",
       "      <th></th>\n",
       "      <th>Fresh</th>\n",
       "      <th>Milk</th>\n",
       "      <th>Grocery</th>\n",
       "      <th>Frozen</th>\n",
       "      <th>Detergents_Paper</th>\n",
       "      <th>Delicatessen</th>\n",
       "    </tr>\n",
       "    <tr>\n",
       "      <th>Region</th>\n",
       "      <th></th>\n",
       "      <th></th>\n",
       "      <th></th>\n",
       "      <th></th>\n",
       "      <th></th>\n",
       "      <th></th>\n",
       "    </tr>\n",
       "  </thead>\n",
       "  <tbody>\n",
       "    <tr>\n",
       "      <th>Lisbon</th>\n",
       "      <td>854833</td>\n",
       "      <td>422454</td>\n",
       "      <td>570037</td>\n",
       "      <td>231026</td>\n",
       "      <td>204136</td>\n",
       "      <td>104327</td>\n",
       "    </tr>\n",
       "    <tr>\n",
       "      <th>Oporto</th>\n",
       "      <td>464721</td>\n",
       "      <td>239144</td>\n",
       "      <td>433274</td>\n",
       "      <td>190132</td>\n",
       "      <td>173311</td>\n",
       "      <td>54506</td>\n",
       "    </tr>\n",
       "    <tr>\n",
       "      <th>Other</th>\n",
       "      <td>3960577</td>\n",
       "      <td>1888759</td>\n",
       "      <td>2495251</td>\n",
       "      <td>930492</td>\n",
       "      <td>890410</td>\n",
       "      <td>512110</td>\n",
       "    </tr>\n",
       "  </tbody>\n",
       "</table>\n",
       "</div>"
      ],
      "text/plain": [
       "          Fresh     Milk  Grocery  Frozen  Detergents_Paper  Delicatessen\n",
       "Region                                                                   \n",
       "Lisbon   854833   422454   570037  231026            204136        104327\n",
       "Oporto   464721   239144   433274  190132            173311         54506\n",
       "Other   3960577  1888759  2495251  930492            890410        512110"
      ]
     },
     "execution_count": 14,
     "metadata": {},
     "output_type": "execute_result"
    }
   ],
   "source": [
    "df_region_new=df_region.drop(['Total_spending','Buyer/Spender'],axis=1) #removing total spending as per question\n",
    "df_region_new"
   ]
  },
  {
   "cell_type": "code",
   "execution_count": 16,
   "id": "8582245a",
   "metadata": {},
   "outputs": [
    {
     "data": {
      "image/png": "[encoded data removed]",
      "text/plain": [
       "<Figure size 720x504 with 1 Axes>"
      ]
     },
     "metadata": {
      "needs_background": "light"
     },
     "output_type": "display_data"
    }
   ],
   "source": [
    "df_region_new.plot(kind='bar',figsize=(10,7));"
   ]
  },
  {
   "cell_type": "code",
   "execution_count": 17,
   "id": "66530e9b",
   "metadata": {},
   "outputs": [
    {
     "data": {
      "text/html": [
       "<div>\n",
       "<style scoped>\n",
       "    .dataframe tbody tr th:only-of-type {\n",
       "        vertical-align: middle;\n",
       "    }\n",
       "\n",
       "    .dataframe tbody tr th {\n",
       "        vertical-align: top;\n",
       "    }\n",
       "\n",
       "    .dataframe thead th {\n",
       "        text-align: right;\n",
       "    }\n",
       "</style>\n",
       "<table border=\"1\" class=\"dataframe\">\n",
       "  <thead>\n",
       "    <tr style=\"text-align: right;\">\n",
       "      <th></th>\n",
       "      <th>Fresh</th>\n",
       "      <th>Milk</th>\n",
       "      <th>Grocery</th>\n",
       "      <th>Frozen</th>\n",
       "      <th>Detergents_Paper</th>\n",
       "      <th>Delicatessen</th>\n",
       "    </tr>\n",
       "    <tr>\n",
       "      <th>Channel</th>\n",
       "      <th></th>\n",
       "      <th></th>\n",
       "      <th></th>\n",
       "      <th></th>\n",
       "      <th></th>\n",
       "      <th></th>\n",
       "    </tr>\n",
       "  </thead>\n",
       "  <tbody>\n",
       "    <tr>\n",
       "      <th>Hotel</th>\n",
       "      <td>4015717</td>\n",
       "      <td>1028614</td>\n",
       "      <td>1180717</td>\n",
       "      <td>1116979</td>\n",
       "      <td>235587</td>\n",
       "      <td>421955</td>\n",
       "    </tr>\n",
       "    <tr>\n",
       "      <th>Retail</th>\n",
       "      <td>1264414</td>\n",
       "      <td>1521743</td>\n",
       "      <td>2317845</td>\n",
       "      <td>234671</td>\n",
       "      <td>1032270</td>\n",
       "      <td>248988</td>\n",
       "    </tr>\n",
       "  </tbody>\n",
       "</table>\n",
       "</div>"
      ],
      "text/plain": [
       "           Fresh     Milk  Grocery   Frozen  Detergents_Paper  Delicatessen\n",
       "Channel                                                                    \n",
       "Hotel    4015717  1028614  1180717  1116979            235587        421955\n",
       "Retail   1264414  1521743  2317845   234671           1032270        248988"
      ]
     },
     "execution_count": 17,
     "metadata": {},
     "output_type": "execute_result"
    }
   ],
   "source": [
    "df_channel_new=df_channel.drop(['Total_spending','Buyer/Spender'],axis=1) #removing total spending as per question\n",
    "df_channel_new"
   ]
  },
  {
   "cell_type": "code",
   "execution_count": 18,
   "id": "c92137eb",
   "metadata": {},
   "outputs": [
    {
     "data": {
      "image/png": "[encoded data removed]",
      "text/plain": [
       "<Figure size 720x504 with 1 Axes>"
      ]
     },
     "metadata": {
      "needs_background": "light"
     },
     "output_type": "display_data"
    }
   ],
   "source": [
    "df_channel_new.plot(kind='bar',figsize=(10,7));"
   ]
  },
  {
   "cell_type": "markdown",
   "id": "7a95256b",
   "metadata": {},
   "source": [
    "### 1.3 On the basis of a descriptive measure of variability, which item shows the most inconsistent behaviour? Which items show the least inconsistent behaviour?"
   ]
  },
  {
   "cell_type": "code",
   "execution_count": 19,
   "id": "82e83dff",
   "metadata": {},
   "outputs": [
    {
     "data": {
      "text/html": [
       "<div>\n",
       "<style scoped>\n",
       "    .dataframe tbody tr th:only-of-type {\n",
       "        vertical-align: middle;\n",
       "    }\n",
       "\n",
       "    .dataframe tbody tr th {\n",
       "        vertical-align: top;\n",
       "    }\n",
       "\n",
       "    .dataframe thead th {\n",
       "        text-align: right;\n",
       "    }\n",
       "</style>\n",
       "<table border=\"1\" class=\"dataframe\">\n",
       "  <thead>\n",
       "    <tr style=\"text-align: right;\">\n",
       "      <th></th>\n",
       "      <th>Buyer/Spender</th>\n",
       "      <th>Channel</th>\n",
       "      <th>Region</th>\n",
       "      <th>Fresh</th>\n",
       "      <th>Milk</th>\n",
       "      <th>Grocery</th>\n",
       "      <th>Frozen</th>\n",
       "      <th>Detergents_Paper</th>\n",
       "      <th>Delicatessen</th>\n",
       "      <th>Total_spending</th>\n",
       "    </tr>\n",
       "  </thead>\n",
       "  <tbody>\n",
       "    <tr>\n",
       "      <th>0</th>\n",
       "      <td>1</td>\n",
       "      <td>Retail</td>\n",
       "      <td>Other</td>\n",
       "      <td>12669</td>\n",
       "      <td>9656</td>\n",
       "      <td>7561</td>\n",
       "      <td>214</td>\n",
       "      <td>2674</td>\n",
       "      <td>1338</td>\n",
       "      <td>34112</td>\n",
       "    </tr>\n",
       "    <tr>\n",
       "      <th>1</th>\n",
       "      <td>2</td>\n",
       "      <td>Retail</td>\n",
       "      <td>Other</td>\n",
       "      <td>7057</td>\n",
       "      <td>9810</td>\n",
       "      <td>9568</td>\n",
       "      <td>1762</td>\n",
       "      <td>3293</td>\n",
       "      <td>1776</td>\n",
       "      <td>33266</td>\n",
       "    </tr>\n",
       "    <tr>\n",
       "      <th>2</th>\n",
       "      <td>3</td>\n",
       "      <td>Retail</td>\n",
       "      <td>Other</td>\n",
       "      <td>6353</td>\n",
       "      <td>8808</td>\n",
       "      <td>7684</td>\n",
       "      <td>2405</td>\n",
       "      <td>3516</td>\n",
       "      <td>7844</td>\n",
       "      <td>36610</td>\n",
       "    </tr>\n",
       "    <tr>\n",
       "      <th>3</th>\n",
       "      <td>4</td>\n",
       "      <td>Hotel</td>\n",
       "      <td>Other</td>\n",
       "      <td>13265</td>\n",
       "      <td>1196</td>\n",
       "      <td>4221</td>\n",
       "      <td>6404</td>\n",
       "      <td>507</td>\n",
       "      <td>1788</td>\n",
       "      <td>27381</td>\n",
       "    </tr>\n",
       "    <tr>\n",
       "      <th>4</th>\n",
       "      <td>5</td>\n",
       "      <td>Retail</td>\n",
       "      <td>Other</td>\n",
       "      <td>22615</td>\n",
       "      <td>5410</td>\n",
       "      <td>7198</td>\n",
       "      <td>3915</td>\n",
       "      <td>1777</td>\n",
       "      <td>5185</td>\n",
       "      <td>46100</td>\n",
       "    </tr>\n",
       "  </tbody>\n",
       "</table>\n",
       "</div>"
      ],
      "text/plain": [
       "   Buyer/Spender Channel Region  Fresh  Milk  Grocery  Frozen  \\\n",
       "0              1  Retail  Other  12669  9656     7561     214   \n",
       "1              2  Retail  Other   7057  9810     9568    1762   \n",
       "2              3  Retail  Other   6353  8808     7684    2405   \n",
       "3              4   Hotel  Other  13265  1196     4221    6404   \n",
       "4              5  Retail  Other  22615  5410     7198    3915   \n",
       "\n",
       "   Detergents_Paper  Delicatessen  Total_spending  \n",
       "0              2674          1338           34112  \n",
       "1              3293          1776           33266  \n",
       "2              3516          7844           36610  \n",
       "3               507          1788           27381  \n",
       "4              1777          5185           46100  "
      ]
     },
     "execution_count": 19,
     "metadata": {},
     "output_type": "execute_result"
    }
   ],
   "source": [
    "df.head()"
   ]
  },
  {
   "cell_type": "code",
   "execution_count": 20,
   "id": "80854997",
   "metadata": {},
   "outputs": [],
   "source": [
    "df_new=df.copy()"
   ]
  },
  {
   "cell_type": "code",
   "execution_count": 21,
   "id": "1c516c47",
   "metadata": {},
   "outputs": [
    {
     "data": {
      "text/html": [
       "<div>\n",
       "<style scoped>\n",
       "    .dataframe tbody tr th:only-of-type {\n",
       "        vertical-align: middle;\n",
       "    }\n",
       "\n",
       "    .dataframe tbody tr th {\n",
       "        vertical-align: top;\n",
       "    }\n",
       "\n",
       "    .dataframe thead th {\n",
       "        text-align: right;\n",
       "    }\n",
       "</style>\n",
       "<table border=\"1\" class=\"dataframe\">\n",
       "  <thead>\n",
       "    <tr style=\"text-align: right;\">\n",
       "      <th></th>\n",
       "      <th>Channel</th>\n",
       "      <th>Region</th>\n",
       "      <th>Fresh</th>\n",
       "      <th>Milk</th>\n",
       "      <th>Grocery</th>\n",
       "      <th>Frozen</th>\n",
       "      <th>Detergents_Paper</th>\n",
       "      <th>Delicatessen</th>\n",
       "    </tr>\n",
       "  </thead>\n",
       "  <tbody>\n",
       "    <tr>\n",
       "      <th>0</th>\n",
       "      <td>Retail</td>\n",
       "      <td>Other</td>\n",
       "      <td>12669</td>\n",
       "      <td>9656</td>\n",
       "      <td>7561</td>\n",
       "      <td>214</td>\n",
       "      <td>2674</td>\n",
       "      <td>1338</td>\n",
       "    </tr>\n",
       "    <tr>\n",
       "      <th>1</th>\n",
       "      <td>Retail</td>\n",
       "      <td>Other</td>\n",
       "      <td>7057</td>\n",
       "      <td>9810</td>\n",
       "      <td>9568</td>\n",
       "      <td>1762</td>\n",
       "      <td>3293</td>\n",
       "      <td>1776</td>\n",
       "    </tr>\n",
       "    <tr>\n",
       "      <th>2</th>\n",
       "      <td>Retail</td>\n",
       "      <td>Other</td>\n",
       "      <td>6353</td>\n",
       "      <td>8808</td>\n",
       "      <td>7684</td>\n",
       "      <td>2405</td>\n",
       "      <td>3516</td>\n",
       "      <td>7844</td>\n",
       "    </tr>\n",
       "    <tr>\n",
       "      <th>3</th>\n",
       "      <td>Hotel</td>\n",
       "      <td>Other</td>\n",
       "      <td>13265</td>\n",
       "      <td>1196</td>\n",
       "      <td>4221</td>\n",
       "      <td>6404</td>\n",
       "      <td>507</td>\n",
       "      <td>1788</td>\n",
       "    </tr>\n",
       "    <tr>\n",
       "      <th>4</th>\n",
       "      <td>Retail</td>\n",
       "      <td>Other</td>\n",
       "      <td>22615</td>\n",
       "      <td>5410</td>\n",
       "      <td>7198</td>\n",
       "      <td>3915</td>\n",
       "      <td>1777</td>\n",
       "      <td>5185</td>\n",
       "    </tr>\n",
       "    <tr>\n",
       "      <th>...</th>\n",
       "      <td>...</td>\n",
       "      <td>...</td>\n",
       "      <td>...</td>\n",
       "      <td>...</td>\n",
       "      <td>...</td>\n",
       "      <td>...</td>\n",
       "      <td>...</td>\n",
       "      <td>...</td>\n",
       "    </tr>\n",
       "    <tr>\n",
       "      <th>435</th>\n",
       "      <td>Hotel</td>\n",
       "      <td>Other</td>\n",
       "      <td>29703</td>\n",
       "      <td>12051</td>\n",
       "      <td>16027</td>\n",
       "      <td>13135</td>\n",
       "      <td>182</td>\n",
       "      <td>2204</td>\n",
       "    </tr>\n",
       "    <tr>\n",
       "      <th>436</th>\n",
       "      <td>Hotel</td>\n",
       "      <td>Other</td>\n",
       "      <td>39228</td>\n",
       "      <td>1431</td>\n",
       "      <td>764</td>\n",
       "      <td>4510</td>\n",
       "      <td>93</td>\n",
       "      <td>2346</td>\n",
       "    </tr>\n",
       "    <tr>\n",
       "      <th>437</th>\n",
       "      <td>Retail</td>\n",
       "      <td>Other</td>\n",
       "      <td>14531</td>\n",
       "      <td>15488</td>\n",
       "      <td>30243</td>\n",
       "      <td>437</td>\n",
       "      <td>14841</td>\n",
       "      <td>1867</td>\n",
       "    </tr>\n",
       "    <tr>\n",
       "      <th>438</th>\n",
       "      <td>Hotel</td>\n",
       "      <td>Other</td>\n",
       "      <td>10290</td>\n",
       "      <td>1981</td>\n",
       "      <td>2232</td>\n",
       "      <td>1038</td>\n",
       "      <td>168</td>\n",
       "      <td>2125</td>\n",
       "    </tr>\n",
       "    <tr>\n",
       "      <th>439</th>\n",
       "      <td>Hotel</td>\n",
       "      <td>Other</td>\n",
       "      <td>2787</td>\n",
       "      <td>1698</td>\n",
       "      <td>2510</td>\n",
       "      <td>65</td>\n",
       "      <td>477</td>\n",
       "      <td>52</td>\n",
       "    </tr>\n",
       "  </tbody>\n",
       "</table>\n",
       "<p>440 rows × 8 columns</p>\n",
       "</div>"
      ],
      "text/plain": [
       "    Channel Region  Fresh   Milk  Grocery  Frozen  Detergents_Paper  \\\n",
       "0    Retail  Other  12669   9656     7561     214              2674   \n",
       "1    Retail  Other   7057   9810     9568    1762              3293   \n",
       "2    Retail  Other   6353   8808     7684    2405              3516   \n",
       "3     Hotel  Other  13265   1196     4221    6404               507   \n",
       "4    Retail  Other  22615   5410     7198    3915              1777   \n",
       "..      ...    ...    ...    ...      ...     ...               ...   \n",
       "435   Hotel  Other  29703  12051    16027   13135               182   \n",
       "436   Hotel  Other  39228   1431      764    4510                93   \n",
       "437  Retail  Other  14531  15488    30243     437             14841   \n",
       "438   Hotel  Other  10290   1981     2232    1038               168   \n",
       "439   Hotel  Other   2787   1698     2510      65               477   \n",
       "\n",
       "     Delicatessen  \n",
       "0            1338  \n",
       "1            1776  \n",
       "2            7844  \n",
       "3            1788  \n",
       "4            5185  \n",
       "..            ...  \n",
       "435          2204  \n",
       "436          2346  \n",
       "437          1867  \n",
       "438          2125  \n",
       "439            52  \n",
       "\n",
       "[440 rows x 8 columns]"
      ]
     },
     "execution_count": 21,
     "metadata": {},
     "output_type": "execute_result"
    }
   ],
   "source": [
    "df_new.drop(['Buyer/Spender','Total_spending'],axis=1,inplace=True) #removing buyer/spender and total spending\n",
    "df_new"
   ]
  },
  {
   "cell_type": "code",
   "execution_count": 22,
   "id": "81d17310",
   "metadata": {},
   "outputs": [
    {
     "name": "stderr",
     "output_type": "stream",
     "text": [
      "C:\\Users\\USER\\AppData\\Local\\Temp\\ipykernel_18860\\4208695933.py:1: FutureWarning: Dropping of nuisance columns in DataFrame reductions (with 'numeric_only=None') is deprecated; in a future version this will raise TypeError.  Select only valid columns before calling the reduction.\n",
      "  df_new.std()\n"
     ]
    },
    {
     "data": {
      "text/plain": [
       "Fresh              12647.33\n",
       "Milk                7380.38\n",
       "Grocery             9503.16\n",
       "Frozen              4854.67\n",
       "Detergents_Paper    4767.85\n",
       "Delicatessen        2820.11\n",
       "dtype: float64"
      ]
     },
     "execution_count": 22,
     "metadata": {},
     "output_type": "execute_result"
    }
   ],
   "source": [
    "df_new.std()"
   ]
  },
  {
   "cell_type": "code",
   "execution_count": 23,
   "id": "5c138e2c",
   "metadata": {},
   "outputs": [
    {
     "name": "stderr",
     "output_type": "stream",
     "text": [
      "C:\\Users\\USER\\AppData\\Local\\Temp\\ipykernel_18860\\1212866955.py:1: FutureWarning: Dropping of nuisance columns in DataFrame reductions (with 'numeric_only=None') is deprecated; in a future version this will raise TypeError.  Select only valid columns before calling the reduction.\n",
      "  df_new.mean()\n"
     ]
    },
    {
     "data": {
      "text/plain": [
       "Fresh              12000.30\n",
       "Milk                5796.27\n",
       "Grocery             7951.28\n",
       "Frozen              3071.93\n",
       "Detergents_Paper    2881.49\n",
       "Delicatessen        1524.87\n",
       "dtype: float64"
      ]
     },
     "execution_count": 23,
     "metadata": {},
     "output_type": "execute_result"
    }
   ],
   "source": [
    "df_new.mean()"
   ]
  },
  {
   "cell_type": "code",
   "execution_count": 24,
   "id": "fdf6b4c1",
   "metadata": {},
   "outputs": [
    {
     "name": "stderr",
     "output_type": "stream",
     "text": [
      "C:\\Users\\USER\\AppData\\Local\\Temp\\ipykernel_18860\\4001315052.py:1: FutureWarning: Dropping of nuisance columns in DataFrame reductions (with 'numeric_only=None') is deprecated; in a future version this will raise TypeError.  Select only valid columns before calling the reduction.\n",
      "  covariance = df_new.std()/df_new.mean()\n"
     ]
    },
    {
     "data": {
      "text/plain": [
       "Fresh              1.05\n",
       "Milk               1.27\n",
       "Grocery            1.20\n",
       "Frozen             1.58\n",
       "Detergents_Paper   1.65\n",
       "Delicatessen       1.85\n",
       "dtype: float64"
      ]
     },
     "execution_count": 24,
     "metadata": {},
     "output_type": "execute_result"
    }
   ],
   "source": [
    "covariance = df_new.std()/df_new.mean() #calculating co-eff variance\n",
    "covariance "
   ]
  },
  {
   "cell_type": "markdown",
   "id": "0fc19de1",
   "metadata": {},
   "source": [
    "### 1.4 Are there any outliers in the data? Back up your answer with a suitable plot/technique with the help of detailed comments."
   ]
  },
  {
   "cell_type": "code",
   "execution_count": 25,
   "id": "e7d4afac",
   "metadata": {},
   "outputs": [
    {
     "name": "stdout",
     "output_type": "stream",
     "text": [
      "Fresh              13806.00\n",
      "Milk                5657.25\n",
      "Grocery             8502.75\n",
      "Frozen              2812.00\n",
      "Detergents_Paper    3665.25\n",
      "Delicatessen        1412.00\n",
      "dtype: float64\n"
     ]
    }
   ],
   "source": [
    "Q1 =df_new.quantile(0.25) #calculating IQR\n",
    "Q3 = df_new.quantile(0.75)\n",
    "IQR = Q3 - Q1\n",
    "print(IQR)"
   ]
  },
  {
   "cell_type": "code",
   "execution_count": 27,
   "id": "c515ec60",
   "metadata": {},
   "outputs": [
    {
     "data": {
      "image/png": "[encoded data removed]",
      "text/plain": [
       "<Figure size 1224x792 with 1 Axes>"
      ]
     },
     "metadata": {},
     "output_type": "display_data"
    }
   ],
   "source": [
    "sns.set(rc={'figure.figsize':(17,11)}) #creating boxplot for outliers\n",
    "sns.boxplot(data=df_new,orient='h');"
   ]
  },
  {
   "cell_type": "code",
   "execution_count": 28,
   "id": "ba64988c",
   "metadata": {},
   "outputs": [
    {
     "name": "stderr",
     "output_type": "stream",
     "text": [
      "C:\\Users\\USER\\AppData\\Local\\Temp\\ipykernel_18860\\2914064806.py:1: FutureWarning: Automatic reindexing on DataFrame vs Series comparisons is deprecated and will raise ValueError in a future version. Do `left, right = left.align(right, axis=1, copy=False)` before e.g. `left == right`\n",
      "  df_outlier = (df_new < (Q1 - 1.5 * IQR)) |(df_new > (Q3 + 1.5 * IQR))\n"
     ]
    },
    {
     "data": {
      "text/html": [
       "<div>\n",
       "<style scoped>\n",
       "    .dataframe tbody tr th:only-of-type {\n",
       "        vertical-align: middle;\n",
       "    }\n",
       "\n",
       "    .dataframe tbody tr th {\n",
       "        vertical-align: top;\n",
       "    }\n",
       "\n",
       "    .dataframe thead th {\n",
       "        text-align: right;\n",
       "    }\n",
       "</style>\n",
       "<table border=\"1\" class=\"dataframe\">\n",
       "  <thead>\n",
       "    <tr style=\"text-align: right;\">\n",
       "      <th></th>\n",
       "      <th>Channel</th>\n",
       "      <th>Delicatessen</th>\n",
       "      <th>Detergents_Paper</th>\n",
       "      <th>Fresh</th>\n",
       "      <th>Frozen</th>\n",
       "      <th>Grocery</th>\n",
       "      <th>Milk</th>\n",
       "      <th>Region</th>\n",
       "    </tr>\n",
       "  </thead>\n",
       "  <tbody>\n",
       "    <tr>\n",
       "      <th>0</th>\n",
       "      <td>False</td>\n",
       "      <td>False</td>\n",
       "      <td>False</td>\n",
       "      <td>False</td>\n",
       "      <td>False</td>\n",
       "      <td>False</td>\n",
       "      <td>False</td>\n",
       "      <td>False</td>\n",
       "    </tr>\n",
       "    <tr>\n",
       "      <th>1</th>\n",
       "      <td>False</td>\n",
       "      <td>False</td>\n",
       "      <td>False</td>\n",
       "      <td>False</td>\n",
       "      <td>False</td>\n",
       "      <td>False</td>\n",
       "      <td>False</td>\n",
       "      <td>False</td>\n",
       "    </tr>\n",
       "    <tr>\n",
       "      <th>2</th>\n",
       "      <td>False</td>\n",
       "      <td>True</td>\n",
       "      <td>False</td>\n",
       "      <td>False</td>\n",
       "      <td>False</td>\n",
       "      <td>False</td>\n",
       "      <td>False</td>\n",
       "      <td>False</td>\n",
       "    </tr>\n",
       "    <tr>\n",
       "      <th>3</th>\n",
       "      <td>False</td>\n",
       "      <td>False</td>\n",
       "      <td>False</td>\n",
       "      <td>False</td>\n",
       "      <td>False</td>\n",
       "      <td>False</td>\n",
       "      <td>False</td>\n",
       "      <td>False</td>\n",
       "    </tr>\n",
       "    <tr>\n",
       "      <th>4</th>\n",
       "      <td>False</td>\n",
       "      <td>True</td>\n",
       "      <td>False</td>\n",
       "      <td>False</td>\n",
       "      <td>False</td>\n",
       "      <td>False</td>\n",
       "      <td>False</td>\n",
       "      <td>False</td>\n",
       "    </tr>\n",
       "  </tbody>\n",
       "</table>\n",
       "</div>"
      ],
      "text/plain": [
       "   Channel  Delicatessen  Detergents_Paper  Fresh  Frozen  Grocery   Milk  \\\n",
       "0    False         False             False  False   False    False  False   \n",
       "1    False         False             False  False   False    False  False   \n",
       "2    False          True             False  False   False    False  False   \n",
       "3    False         False             False  False   False    False  False   \n",
       "4    False          True             False  False   False    False  False   \n",
       "\n",
       "   Region  \n",
       "0   False  \n",
       "1   False  \n",
       "2   False  \n",
       "3   False  \n",
       "4   False  "
      ]
     },
     "execution_count": 28,
     "metadata": {},
     "output_type": "execute_result"
    }
   ],
   "source": [
    "df_outlier = (df_new < (Q1 - 1.5 * IQR)) |(df_new > (Q3 + 1.5 * IQR))\n",
    "df_outlier.head() #checking outlier as per condition"
   ]
  },
  {
   "cell_type": "markdown",
   "id": "ba69908c",
   "metadata": {},
   "source": [
    "# Problem 2"
   ]
  },
  {
   "cell_type": "markdown",
   "id": "9341f54a",
   "metadata": {},
   "source": [
    "### The Student News Service at Clear Mountain State University (CMSU) has decided to gather data about the undergraduate students that attend CMSU. CMSU creates and distributes a survey of 14 questions and receives responses from 62 undergraduates (stored in the Survey data set)."
   ]
  },
  {
   "cell_type": "code",
   "execution_count": 29,
   "id": "cf365958",
   "metadata": {},
   "outputs": [
    {
     "data": {
      "text/html": [
       "<div>\n",
       "<style scoped>\n",
       "    .dataframe tbody tr th:only-of-type {\n",
       "        vertical-align: middle;\n",
       "    }\n",
       "\n",
       "    .dataframe tbody tr th {\n",
       "        vertical-align: top;\n",
       "    }\n",
       "\n",
       "    .dataframe thead th {\n",
       "        text-align: right;\n",
       "    }\n",
       "</style>\n",
       "<table border=\"1\" class=\"dataframe\">\n",
       "  <thead>\n",
       "    <tr style=\"text-align: right;\">\n",
       "      <th></th>\n",
       "      <th>ID</th>\n",
       "      <th>Gender</th>\n",
       "      <th>Age</th>\n",
       "      <th>Class</th>\n",
       "      <th>Major</th>\n",
       "      <th>Grad Intention</th>\n",
       "      <th>GPA</th>\n",
       "      <th>Employment</th>\n",
       "      <th>Salary</th>\n",
       "      <th>Social Networking</th>\n",
       "      <th>Satisfaction</th>\n",
       "      <th>Spending</th>\n",
       "      <th>Computer</th>\n",
       "      <th>Text Messages</th>\n",
       "    </tr>\n",
       "  </thead>\n",
       "  <tbody>\n",
       "    <tr>\n",
       "      <th>0</th>\n",
       "      <td>1</td>\n",
       "      <td>Female</td>\n",
       "      <td>20</td>\n",
       "      <td>Junior</td>\n",
       "      <td>Other</td>\n",
       "      <td>Yes</td>\n",
       "      <td>2.90</td>\n",
       "      <td>Full-Time</td>\n",
       "      <td>50.00</td>\n",
       "      <td>1</td>\n",
       "      <td>3</td>\n",
       "      <td>350</td>\n",
       "      <td>Laptop</td>\n",
       "      <td>200</td>\n",
       "    </tr>\n",
       "    <tr>\n",
       "      <th>1</th>\n",
       "      <td>2</td>\n",
       "      <td>Male</td>\n",
       "      <td>23</td>\n",
       "      <td>Senior</td>\n",
       "      <td>Management</td>\n",
       "      <td>Yes</td>\n",
       "      <td>3.60</td>\n",
       "      <td>Part-Time</td>\n",
       "      <td>25.00</td>\n",
       "      <td>1</td>\n",
       "      <td>4</td>\n",
       "      <td>360</td>\n",
       "      <td>Laptop</td>\n",
       "      <td>50</td>\n",
       "    </tr>\n",
       "    <tr>\n",
       "      <th>2</th>\n",
       "      <td>3</td>\n",
       "      <td>Male</td>\n",
       "      <td>21</td>\n",
       "      <td>Junior</td>\n",
       "      <td>Other</td>\n",
       "      <td>Yes</td>\n",
       "      <td>2.50</td>\n",
       "      <td>Part-Time</td>\n",
       "      <td>45.00</td>\n",
       "      <td>2</td>\n",
       "      <td>4</td>\n",
       "      <td>600</td>\n",
       "      <td>Laptop</td>\n",
       "      <td>200</td>\n",
       "    </tr>\n",
       "    <tr>\n",
       "      <th>3</th>\n",
       "      <td>4</td>\n",
       "      <td>Male</td>\n",
       "      <td>21</td>\n",
       "      <td>Junior</td>\n",
       "      <td>CIS</td>\n",
       "      <td>Yes</td>\n",
       "      <td>2.50</td>\n",
       "      <td>Full-Time</td>\n",
       "      <td>40.00</td>\n",
       "      <td>4</td>\n",
       "      <td>6</td>\n",
       "      <td>600</td>\n",
       "      <td>Laptop</td>\n",
       "      <td>250</td>\n",
       "    </tr>\n",
       "    <tr>\n",
       "      <th>4</th>\n",
       "      <td>5</td>\n",
       "      <td>Male</td>\n",
       "      <td>23</td>\n",
       "      <td>Senior</td>\n",
       "      <td>Other</td>\n",
       "      <td>Undecided</td>\n",
       "      <td>2.80</td>\n",
       "      <td>Unemployed</td>\n",
       "      <td>40.00</td>\n",
       "      <td>2</td>\n",
       "      <td>4</td>\n",
       "      <td>500</td>\n",
       "      <td>Laptop</td>\n",
       "      <td>100</td>\n",
       "    </tr>\n",
       "    <tr>\n",
       "      <th>...</th>\n",
       "      <td>...</td>\n",
       "      <td>...</td>\n",
       "      <td>...</td>\n",
       "      <td>...</td>\n",
       "      <td>...</td>\n",
       "      <td>...</td>\n",
       "      <td>...</td>\n",
       "      <td>...</td>\n",
       "      <td>...</td>\n",
       "      <td>...</td>\n",
       "      <td>...</td>\n",
       "      <td>...</td>\n",
       "      <td>...</td>\n",
       "      <td>...</td>\n",
       "    </tr>\n",
       "    <tr>\n",
       "      <th>57</th>\n",
       "      <td>58</td>\n",
       "      <td>Female</td>\n",
       "      <td>21</td>\n",
       "      <td>Senior</td>\n",
       "      <td>International Business</td>\n",
       "      <td>No</td>\n",
       "      <td>2.40</td>\n",
       "      <td>Part-Time</td>\n",
       "      <td>40.00</td>\n",
       "      <td>1</td>\n",
       "      <td>3</td>\n",
       "      <td>1000</td>\n",
       "      <td>Laptop</td>\n",
       "      <td>10</td>\n",
       "    </tr>\n",
       "    <tr>\n",
       "      <th>58</th>\n",
       "      <td>59</td>\n",
       "      <td>Female</td>\n",
       "      <td>20</td>\n",
       "      <td>Junior</td>\n",
       "      <td>CIS</td>\n",
       "      <td>No</td>\n",
       "      <td>2.90</td>\n",
       "      <td>Part-Time</td>\n",
       "      <td>40.00</td>\n",
       "      <td>2</td>\n",
       "      <td>4</td>\n",
       "      <td>350</td>\n",
       "      <td>Laptop</td>\n",
       "      <td>250</td>\n",
       "    </tr>\n",
       "    <tr>\n",
       "      <th>59</th>\n",
       "      <td>60</td>\n",
       "      <td>Female</td>\n",
       "      <td>20</td>\n",
       "      <td>Sophomore</td>\n",
       "      <td>CIS</td>\n",
       "      <td>No</td>\n",
       "      <td>2.50</td>\n",
       "      <td>Part-Time</td>\n",
       "      <td>55.00</td>\n",
       "      <td>1</td>\n",
       "      <td>4</td>\n",
       "      <td>500</td>\n",
       "      <td>Laptop</td>\n",
       "      <td>500</td>\n",
       "    </tr>\n",
       "    <tr>\n",
       "      <th>60</th>\n",
       "      <td>61</td>\n",
       "      <td>Female</td>\n",
       "      <td>23</td>\n",
       "      <td>Senior</td>\n",
       "      <td>Accounting</td>\n",
       "      <td>Yes</td>\n",
       "      <td>3.50</td>\n",
       "      <td>Part-Time</td>\n",
       "      <td>30.00</td>\n",
       "      <td>2</td>\n",
       "      <td>3</td>\n",
       "      <td>490</td>\n",
       "      <td>Laptop</td>\n",
       "      <td>50</td>\n",
       "    </tr>\n",
       "    <tr>\n",
       "      <th>61</th>\n",
       "      <td>62</td>\n",
       "      <td>Female</td>\n",
       "      <td>23</td>\n",
       "      <td>Senior</td>\n",
       "      <td>Economics/Finance</td>\n",
       "      <td>No</td>\n",
       "      <td>3.20</td>\n",
       "      <td>Part-Time</td>\n",
       "      <td>70.00</td>\n",
       "      <td>2</td>\n",
       "      <td>3</td>\n",
       "      <td>250</td>\n",
       "      <td>Laptop</td>\n",
       "      <td>0</td>\n",
       "    </tr>\n",
       "  </tbody>\n",
       "</table>\n",
       "<p>62 rows × 14 columns</p>\n",
       "</div>"
      ],
      "text/plain": [
       "    ID  Gender  Age      Class                   Major Grad Intention  GPA  \\\n",
       "0    1  Female   20     Junior                   Other            Yes 2.90   \n",
       "1    2    Male   23     Senior              Management            Yes 3.60   \n",
       "2    3    Male   21     Junior                   Other            Yes 2.50   \n",
       "3    4    Male   21     Junior                     CIS            Yes 2.50   \n",
       "4    5    Male   23     Senior                   Other      Undecided 2.80   \n",
       "..  ..     ...  ...        ...                     ...            ...  ...   \n",
       "57  58  Female   21     Senior  International Business             No 2.40   \n",
       "58  59  Female   20     Junior                     CIS             No 2.90   \n",
       "59  60  Female   20  Sophomore                     CIS             No 2.50   \n",
       "60  61  Female   23     Senior              Accounting            Yes 3.50   \n",
       "61  62  Female   23     Senior       Economics/Finance             No 3.20   \n",
       "\n",
       "    Employment  Salary  Social Networking  Satisfaction  Spending Computer  \\\n",
       "0    Full-Time   50.00                  1             3       350   Laptop   \n",
       "1    Part-Time   25.00                  1             4       360   Laptop   \n",
       "2    Part-Time   45.00                  2             4       600   Laptop   \n",
       "3    Full-Time   40.00                  4             6       600   Laptop   \n",
       "4   Unemployed   40.00                  2             4       500   Laptop   \n",
       "..         ...     ...                ...           ...       ...      ...   \n",
       "57   Part-Time   40.00                  1             3      1000   Laptop   \n",
       "58   Part-Time   40.00                  2             4       350   Laptop   \n",
       "59   Part-Time   55.00                  1             4       500   Laptop   \n",
       "60   Part-Time   30.00                  2             3       490   Laptop   \n",
       "61   Part-Time   70.00                  2             3       250   Laptop   \n",
       "\n",
       "    Text Messages  \n",
       "0             200  \n",
       "1              50  \n",
       "2             200  \n",
       "3             250  \n",
       "4             100  \n",
       "..            ...  \n",
       "57             10  \n",
       "58            250  \n",
       "59            500  \n",
       "60             50  \n",
       "61              0  \n",
       "\n",
       "[62 rows x 14 columns]"
      ]
     },
     "execution_count": 29,
     "metadata": {},
     "output_type": "execute_result"
    }
   ],
   "source": [
    "survey = pd.read_csv('Survey.csv')\n",
    "survey"
   ]
  },
  {
   "cell_type": "code",
   "execution_count": 30,
   "id": "7a37aa2e",
   "metadata": {},
   "outputs": [
    {
     "data": {
      "text/html": [
       "<div>\n",
       "<style scoped>\n",
       "    .dataframe tbody tr th:only-of-type {\n",
       "        vertical-align: middle;\n",
       "    }\n",
       "\n",
       "    .dataframe tbody tr th {\n",
       "        vertical-align: top;\n",
       "    }\n",
       "\n",
       "    .dataframe thead th {\n",
       "        text-align: right;\n",
       "    }\n",
       "</style>\n",
       "<table border=\"1\" class=\"dataframe\">\n",
       "  <thead>\n",
       "    <tr style=\"text-align: right;\">\n",
       "      <th></th>\n",
       "      <th>ID</th>\n",
       "      <th>Gender</th>\n",
       "      <th>Age</th>\n",
       "      <th>Class</th>\n",
       "      <th>Major</th>\n",
       "      <th>Grad Intention</th>\n",
       "      <th>GPA</th>\n",
       "      <th>Employment</th>\n",
       "      <th>Salary</th>\n",
       "      <th>Social Networking</th>\n",
       "      <th>Satisfaction</th>\n",
       "      <th>Spending</th>\n",
       "      <th>Computer</th>\n",
       "      <th>Text Messages</th>\n",
       "    </tr>\n",
       "  </thead>\n",
       "  <tbody>\n",
       "    <tr>\n",
       "      <th>0</th>\n",
       "      <td>1</td>\n",
       "      <td>Female</td>\n",
       "      <td>20</td>\n",
       "      <td>Junior</td>\n",
       "      <td>Other</td>\n",
       "      <td>Yes</td>\n",
       "      <td>2.90</td>\n",
       "      <td>Full-Time</td>\n",
       "      <td>50.00</td>\n",
       "      <td>1</td>\n",
       "      <td>3</td>\n",
       "      <td>350</td>\n",
       "      <td>Laptop</td>\n",
       "      <td>200</td>\n",
       "    </tr>\n",
       "    <tr>\n",
       "      <th>1</th>\n",
       "      <td>2</td>\n",
       "      <td>Male</td>\n",
       "      <td>23</td>\n",
       "      <td>Senior</td>\n",
       "      <td>Management</td>\n",
       "      <td>Yes</td>\n",
       "      <td>3.60</td>\n",
       "      <td>Part-Time</td>\n",
       "      <td>25.00</td>\n",
       "      <td>1</td>\n",
       "      <td>4</td>\n",
       "      <td>360</td>\n",
       "      <td>Laptop</td>\n",
       "      <td>50</td>\n",
       "    </tr>\n",
       "    <tr>\n",
       "      <th>2</th>\n",
       "      <td>3</td>\n",
       "      <td>Male</td>\n",
       "      <td>21</td>\n",
       "      <td>Junior</td>\n",
       "      <td>Other</td>\n",
       "      <td>Yes</td>\n",
       "      <td>2.50</td>\n",
       "      <td>Part-Time</td>\n",
       "      <td>45.00</td>\n",
       "      <td>2</td>\n",
       "      <td>4</td>\n",
       "      <td>600</td>\n",
       "      <td>Laptop</td>\n",
       "      <td>200</td>\n",
       "    </tr>\n",
       "    <tr>\n",
       "      <th>3</th>\n",
       "      <td>4</td>\n",
       "      <td>Male</td>\n",
       "      <td>21</td>\n",
       "      <td>Junior</td>\n",
       "      <td>CIS</td>\n",
       "      <td>Yes</td>\n",
       "      <td>2.50</td>\n",
       "      <td>Full-Time</td>\n",
       "      <td>40.00</td>\n",
       "      <td>4</td>\n",
       "      <td>6</td>\n",
       "      <td>600</td>\n",
       "      <td>Laptop</td>\n",
       "      <td>250</td>\n",
       "    </tr>\n",
       "    <tr>\n",
       "      <th>4</th>\n",
       "      <td>5</td>\n",
       "      <td>Male</td>\n",
       "      <td>23</td>\n",
       "      <td>Senior</td>\n",
       "      <td>Other</td>\n",
       "      <td>Undecided</td>\n",
       "      <td>2.80</td>\n",
       "      <td>Unemployed</td>\n",
       "      <td>40.00</td>\n",
       "      <td>2</td>\n",
       "      <td>4</td>\n",
       "      <td>500</td>\n",
       "      <td>Laptop</td>\n",
       "      <td>100</td>\n",
       "    </tr>\n",
       "  </tbody>\n",
       "</table>\n",
       "</div>"
      ],
      "text/plain": [
       "   ID  Gender  Age   Class       Major Grad Intention  GPA  Employment  \\\n",
       "0   1  Female   20  Junior       Other            Yes 2.90   Full-Time   \n",
       "1   2    Male   23  Senior  Management            Yes 3.60   Part-Time   \n",
       "2   3    Male   21  Junior       Other            Yes 2.50   Part-Time   \n",
       "3   4    Male   21  Junior         CIS            Yes 2.50   Full-Time   \n",
       "4   5    Male   23  Senior       Other      Undecided 2.80  Unemployed   \n",
       "\n",
       "   Salary  Social Networking  Satisfaction  Spending Computer  Text Messages  \n",
       "0   50.00                  1             3       350   Laptop            200  \n",
       "1   25.00                  1             4       360   Laptop             50  \n",
       "2   45.00                  2             4       600   Laptop            200  \n",
       "3   40.00                  4             6       600   Laptop            250  \n",
       "4   40.00                  2             4       500   Laptop            100  "
      ]
     },
     "execution_count": 30,
     "metadata": {},
     "output_type": "execute_result"
    }
   ],
   "source": [
    "survey.head()"
   ]
  },
  {
   "cell_type": "code",
   "execution_count": 31,
   "id": "383b7c76",
   "metadata": {},
   "outputs": [
    {
     "name": "stdout",
     "output_type": "stream",
     "text": [
      "<class 'pandas.core.frame.DataFrame'>\n",
      "RangeIndex: 62 entries, 0 to 61\n",
      "Data columns (total 14 columns):\n",
      " #   Column             Non-Null Count  Dtype  \n",
      "---  ------             --------------  -----  \n",
      " 0   ID                 62 non-null     int64  \n",
      " 1   Gender             62 non-null     object \n",
      " 2   Age                62 non-null     int64  \n",
      " 3   Class              62 non-null     object \n",
      " 4   Major              62 non-null     object \n",
      " 5   Grad Intention     62 non-null     object \n",
      " 6   GPA                62 non-null     float64\n",
      " 7   Employment         62 non-null     object \n",
      " 8   Salary             62 non-null     float64\n",
      " 9   Social Networking  62 non-null     int64  \n",
      " 10  Satisfaction       62 non-null     int64  \n",
      " 11  Spending           62 non-null     int64  \n",
      " 12  Computer           62 non-null     object \n",
      " 13  Text Messages      62 non-null     int64  \n",
      "dtypes: float64(2), int64(6), object(6)\n",
      "memory usage: 6.9+ KB\n"
     ]
    }
   ],
   "source": [
    "survey.info()"
   ]
  },
  {
   "cell_type": "code",
   "execution_count": 35,
   "id": "dbb2e3f0",
   "metadata": {},
   "outputs": [
    {
     "data": {
      "text/html": [
       "<div>\n",
       "<style scoped>\n",
       "    .dataframe tbody tr th:only-of-type {\n",
       "        vertical-align: middle;\n",
       "    }\n",
       "\n",
       "    .dataframe tbody tr th {\n",
       "        vertical-align: top;\n",
       "    }\n",
       "\n",
       "    .dataframe thead th {\n",
       "        text-align: right;\n",
       "    }\n",
       "</style>\n",
       "<table border=\"1\" class=\"dataframe\">\n",
       "  <thead>\n",
       "    <tr style=\"text-align: right;\">\n",
       "      <th></th>\n",
       "      <th>count</th>\n",
       "      <th>unique</th>\n",
       "      <th>top</th>\n",
       "      <th>freq</th>\n",
       "      <th>mean</th>\n",
       "      <th>std</th>\n",
       "      <th>min</th>\n",
       "      <th>25%</th>\n",
       "      <th>50%</th>\n",
       "      <th>75%</th>\n",
       "      <th>max</th>\n",
       "    </tr>\n",
       "  </thead>\n",
       "  <tbody>\n",
       "    <tr>\n",
       "      <th>ID</th>\n",
       "      <td>62.00</td>\n",
       "      <td>NaN</td>\n",
       "      <td>NaN</td>\n",
       "      <td>NaN</td>\n",
       "      <td>31.50</td>\n",
       "      <td>18.04</td>\n",
       "      <td>1.00</td>\n",
       "      <td>16.25</td>\n",
       "      <td>31.50</td>\n",
       "      <td>46.75</td>\n",
       "      <td>62.00</td>\n",
       "    </tr>\n",
       "    <tr>\n",
       "      <th>Gender</th>\n",
       "      <td>62</td>\n",
       "      <td>2</td>\n",
       "      <td>Female</td>\n",
       "      <td>33</td>\n",
       "      <td>NaN</td>\n",
       "      <td>NaN</td>\n",
       "      <td>NaN</td>\n",
       "      <td>NaN</td>\n",
       "      <td>NaN</td>\n",
       "      <td>NaN</td>\n",
       "      <td>NaN</td>\n",
       "    </tr>\n",
       "    <tr>\n",
       "      <th>Age</th>\n",
       "      <td>62.00</td>\n",
       "      <td>NaN</td>\n",
       "      <td>NaN</td>\n",
       "      <td>NaN</td>\n",
       "      <td>21.13</td>\n",
       "      <td>1.43</td>\n",
       "      <td>18.00</td>\n",
       "      <td>20.00</td>\n",
       "      <td>21.00</td>\n",
       "      <td>22.00</td>\n",
       "      <td>26.00</td>\n",
       "    </tr>\n",
       "    <tr>\n",
       "      <th>Class</th>\n",
       "      <td>62</td>\n",
       "      <td>3</td>\n",
       "      <td>Senior</td>\n",
       "      <td>31</td>\n",
       "      <td>NaN</td>\n",
       "      <td>NaN</td>\n",
       "      <td>NaN</td>\n",
       "      <td>NaN</td>\n",
       "      <td>NaN</td>\n",
       "      <td>NaN</td>\n",
       "      <td>NaN</td>\n",
       "    </tr>\n",
       "    <tr>\n",
       "      <th>Major</th>\n",
       "      <td>62</td>\n",
       "      <td>8</td>\n",
       "      <td>Retailing/Marketing</td>\n",
       "      <td>14</td>\n",
       "      <td>NaN</td>\n",
       "      <td>NaN</td>\n",
       "      <td>NaN</td>\n",
       "      <td>NaN</td>\n",
       "      <td>NaN</td>\n",
       "      <td>NaN</td>\n",
       "      <td>NaN</td>\n",
       "    </tr>\n",
       "    <tr>\n",
       "      <th>Grad Intention</th>\n",
       "      <td>62</td>\n",
       "      <td>3</td>\n",
       "      <td>Yes</td>\n",
       "      <td>28</td>\n",
       "      <td>NaN</td>\n",
       "      <td>NaN</td>\n",
       "      <td>NaN</td>\n",
       "      <td>NaN</td>\n",
       "      <td>NaN</td>\n",
       "      <td>NaN</td>\n",
       "      <td>NaN</td>\n",
       "    </tr>\n",
       "    <tr>\n",
       "      <th>GPA</th>\n",
       "      <td>62.00</td>\n",
       "      <td>NaN</td>\n",
       "      <td>NaN</td>\n",
       "      <td>NaN</td>\n",
       "      <td>3.13</td>\n",
       "      <td>0.38</td>\n",
       "      <td>2.30</td>\n",
       "      <td>2.90</td>\n",
       "      <td>3.15</td>\n",
       "      <td>3.40</td>\n",
       "      <td>3.90</td>\n",
       "    </tr>\n",
       "    <tr>\n",
       "      <th>Employment</th>\n",
       "      <td>62</td>\n",
       "      <td>3</td>\n",
       "      <td>Part-Time</td>\n",
       "      <td>43</td>\n",
       "      <td>NaN</td>\n",
       "      <td>NaN</td>\n",
       "      <td>NaN</td>\n",
       "      <td>NaN</td>\n",
       "      <td>NaN</td>\n",
       "      <td>NaN</td>\n",
       "      <td>NaN</td>\n",
       "    </tr>\n",
       "    <tr>\n",
       "      <th>Salary</th>\n",
       "      <td>62.00</td>\n",
       "      <td>NaN</td>\n",
       "      <td>NaN</td>\n",
       "      <td>NaN</td>\n",
       "      <td>48.55</td>\n",
       "      <td>12.08</td>\n",
       "      <td>25.00</td>\n",
       "      <td>40.00</td>\n",
       "      <td>50.00</td>\n",
       "      <td>55.00</td>\n",
       "      <td>80.00</td>\n",
       "    </tr>\n",
       "    <tr>\n",
       "      <th>Social Networking</th>\n",
       "      <td>62.00</td>\n",
       "      <td>NaN</td>\n",
       "      <td>NaN</td>\n",
       "      <td>NaN</td>\n",
       "      <td>1.52</td>\n",
       "      <td>0.84</td>\n",
       "      <td>0.00</td>\n",
       "      <td>1.00</td>\n",
       "      <td>1.00</td>\n",
       "      <td>2.00</td>\n",
       "      <td>4.00</td>\n",
       "    </tr>\n",
       "    <tr>\n",
       "      <th>Satisfaction</th>\n",
       "      <td>62.00</td>\n",
       "      <td>NaN</td>\n",
       "      <td>NaN</td>\n",
       "      <td>NaN</td>\n",
       "      <td>3.74</td>\n",
       "      <td>1.21</td>\n",
       "      <td>1.00</td>\n",
       "      <td>3.00</td>\n",
       "      <td>4.00</td>\n",
       "      <td>4.00</td>\n",
       "      <td>6.00</td>\n",
       "    </tr>\n",
       "    <tr>\n",
       "      <th>Spending</th>\n",
       "      <td>62.00</td>\n",
       "      <td>NaN</td>\n",
       "      <td>NaN</td>\n",
       "      <td>NaN</td>\n",
       "      <td>482.02</td>\n",
       "      <td>221.95</td>\n",
       "      <td>100.00</td>\n",
       "      <td>312.50</td>\n",
       "      <td>500.00</td>\n",
       "      <td>600.00</td>\n",
       "      <td>1400.00</td>\n",
       "    </tr>\n",
       "    <tr>\n",
       "      <th>Computer</th>\n",
       "      <td>62</td>\n",
       "      <td>3</td>\n",
       "      <td>Laptop</td>\n",
       "      <td>55</td>\n",
       "      <td>NaN</td>\n",
       "      <td>NaN</td>\n",
       "      <td>NaN</td>\n",
       "      <td>NaN</td>\n",
       "      <td>NaN</td>\n",
       "      <td>NaN</td>\n",
       "      <td>NaN</td>\n",
       "    </tr>\n",
       "    <tr>\n",
       "      <th>Text Messages</th>\n",
       "      <td>62.00</td>\n",
       "      <td>NaN</td>\n",
       "      <td>NaN</td>\n",
       "      <td>NaN</td>\n",
       "      <td>246.21</td>\n",
       "      <td>214.47</td>\n",
       "      <td>0.00</td>\n",
       "      <td>100.00</td>\n",
       "      <td>200.00</td>\n",
       "      <td>300.00</td>\n",
       "      <td>900.00</td>\n",
       "    </tr>\n",
       "  </tbody>\n",
       "</table>\n",
       "</div>"
      ],
      "text/plain": [
       "                  count unique                  top freq   mean    std    min  \\\n",
       "ID                62.00    NaN                  NaN  NaN  31.50  18.04   1.00   \n",
       "Gender               62      2               Female   33    NaN    NaN    NaN   \n",
       "Age               62.00    NaN                  NaN  NaN  21.13   1.43  18.00   \n",
       "Class                62      3               Senior   31    NaN    NaN    NaN   \n",
       "Major                62      8  Retailing/Marketing   14    NaN    NaN    NaN   \n",
       "Grad Intention       62      3                  Yes   28    NaN    NaN    NaN   \n",
       "GPA               62.00    NaN                  NaN  NaN   3.13   0.38   2.30   \n",
       "Employment           62      3            Part-Time   43    NaN    NaN    NaN   \n",
       "Salary            62.00    NaN                  NaN  NaN  48.55  12.08  25.00   \n",
       "Social Networking 62.00    NaN                  NaN  NaN   1.52   0.84   0.00   \n",
       "Satisfaction      62.00    NaN                  NaN  NaN   3.74   1.21   1.00   \n",
       "Spending          62.00    NaN                  NaN  NaN 482.02 221.95 100.00   \n",
       "Computer             62      3               Laptop   55    NaN    NaN    NaN   \n",
       "Text Messages     62.00    NaN                  NaN  NaN 246.21 214.47   0.00   \n",
       "\n",
       "                     25%    50%    75%     max  \n",
       "ID                 16.25  31.50  46.75   62.00  \n",
       "Gender               NaN    NaN    NaN     NaN  \n",
       "Age                20.00  21.00  22.00   26.00  \n",
       "Class                NaN    NaN    NaN     NaN  \n",
       "Major                NaN    NaN    NaN     NaN  \n",
       "Grad Intention       NaN    NaN    NaN     NaN  \n",
       "GPA                 2.90   3.15   3.40    3.90  \n",
       "Employment           NaN    NaN    NaN     NaN  \n",
       "Salary             40.00  50.00  55.00   80.00  \n",
       "Social Networking   1.00   1.00   2.00    4.00  \n",
       "Satisfaction        3.00   4.00   4.00    6.00  \n",
       "Spending          312.50 500.00 600.00 1400.00  \n",
       "Computer             NaN    NaN    NaN     NaN  \n",
       "Text Messages     100.00 200.00 300.00  900.00  "
      ]
     },
     "execution_count": 35,
     "metadata": {},
     "output_type": "execute_result"
    }
   ],
   "source": [
    "survey.describe(include = 'all').T"
   ]
  },
  {
   "cell_type": "markdown",
   "id": "18b4ba75",
   "metadata": {},
   "source": [
    "## 2.1. For this data, construct the following contingency tables (Keep Gender as row variable)"
   ]
  },
  {
   "cell_type": "markdown",
   "id": "6b29be7d",
   "metadata": {},
   "source": [
    "### 2.1.1. Gender and Major"
   ]
  },
  {
   "cell_type": "code",
   "execution_count": 37,
   "id": "14450e64",
   "metadata": {},
   "outputs": [
    {
     "data": {
      "text/html": [
       "<div>\n",
       "<style scoped>\n",
       "    .dataframe tbody tr th:only-of-type {\n",
       "        vertical-align: middle;\n",
       "    }\n",
       "\n",
       "    .dataframe tbody tr th {\n",
       "        vertical-align: top;\n",
       "    }\n",
       "\n",
       "    .dataframe thead th {\n",
       "        text-align: right;\n",
       "    }\n",
       "</style>\n",
       "<table border=\"1\" class=\"dataframe\">\n",
       "  <thead>\n",
       "    <tr style=\"text-align: right;\">\n",
       "      <th>Major</th>\n",
       "      <th>Accounting</th>\n",
       "      <th>CIS</th>\n",
       "      <th>Economics/Finance</th>\n",
       "      <th>International Business</th>\n",
       "      <th>Management</th>\n",
       "      <th>Other</th>\n",
       "      <th>Retailing/Marketing</th>\n",
       "      <th>Undecided</th>\n",
       "      <th>All</th>\n",
       "    </tr>\n",
       "    <tr>\n",
       "      <th>Gender</th>\n",
       "      <th></th>\n",
       "      <th></th>\n",
       "      <th></th>\n",
       "      <th></th>\n",
       "      <th></th>\n",
       "      <th></th>\n",
       "      <th></th>\n",
       "      <th></th>\n",
       "      <th></th>\n",
       "    </tr>\n",
       "  </thead>\n",
       "  <tbody>\n",
       "    <tr>\n",
       "      <th>Female</th>\n",
       "      <td>3</td>\n",
       "      <td>3</td>\n",
       "      <td>7</td>\n",
       "      <td>4</td>\n",
       "      <td>4</td>\n",
       "      <td>3</td>\n",
       "      <td>9</td>\n",
       "      <td>0</td>\n",
       "      <td>33</td>\n",
       "    </tr>\n",
       "    <tr>\n",
       "      <th>Male</th>\n",
       "      <td>4</td>\n",
       "      <td>1</td>\n",
       "      <td>4</td>\n",
       "      <td>2</td>\n",
       "      <td>6</td>\n",
       "      <td>4</td>\n",
       "      <td>5</td>\n",
       "      <td>3</td>\n",
       "      <td>29</td>\n",
       "    </tr>\n",
       "    <tr>\n",
       "      <th>All</th>\n",
       "      <td>7</td>\n",
       "      <td>4</td>\n",
       "      <td>11</td>\n",
       "      <td>6</td>\n",
       "      <td>10</td>\n",
       "      <td>7</td>\n",
       "      <td>14</td>\n",
       "      <td>3</td>\n",
       "      <td>62</td>\n",
       "    </tr>\n",
       "  </tbody>\n",
       "</table>\n",
       "</div>"
      ],
      "text/plain": [
       "Major   Accounting  CIS  Economics/Finance  International Business  \\\n",
       "Gender                                                               \n",
       "Female           3    3                  7                       4   \n",
       "Male             4    1                  4                       2   \n",
       "All              7    4                 11                       6   \n",
       "\n",
       "Major   Management  Other  Retailing/Marketing  Undecided  All  \n",
       "Gender                                                          \n",
       "Female           4      3                    9          0   33  \n",
       "Male             6      4                    5          3   29  \n",
       "All             10      7                   14          3   62  "
      ]
     },
     "execution_count": 37,
     "metadata": {},
     "output_type": "execute_result"
    }
   ],
   "source": [
    "data_crosstab1 =pd.crosstab(survey['Gender'], survey['Major'], margins=True)\n",
    "data_crosstab1"
   ]
  },
  {
   "cell_type": "markdown",
   "id": "f39bfa33",
   "metadata": {},
   "source": [
    "### 2.1.2. Gender and Grad Intention"
   ]
  },
  {
   "cell_type": "code",
   "execution_count": 38,
   "id": "c18b6781",
   "metadata": {},
   "outputs": [
    {
     "data": {
      "text/html": [
       "<div>\n",
       "<style scoped>\n",
       "    .dataframe tbody tr th:only-of-type {\n",
       "        vertical-align: middle;\n",
       "    }\n",
       "\n",
       "    .dataframe tbody tr th {\n",
       "        vertical-align: top;\n",
       "    }\n",
       "\n",
       "    .dataframe thead th {\n",
       "        text-align: right;\n",
       "    }\n",
       "</style>\n",
       "<table border=\"1\" class=\"dataframe\">\n",
       "  <thead>\n",
       "    <tr style=\"text-align: right;\">\n",
       "      <th>Grad Intention</th>\n",
       "      <th>No</th>\n",
       "      <th>Undecided</th>\n",
       "      <th>Yes</th>\n",
       "      <th>All</th>\n",
       "    </tr>\n",
       "    <tr>\n",
       "      <th>Gender</th>\n",
       "      <th></th>\n",
       "      <th></th>\n",
       "      <th></th>\n",
       "      <th></th>\n",
       "    </tr>\n",
       "  </thead>\n",
       "  <tbody>\n",
       "    <tr>\n",
       "      <th>Female</th>\n",
       "      <td>9</td>\n",
       "      <td>13</td>\n",
       "      <td>11</td>\n",
       "      <td>33</td>\n",
       "    </tr>\n",
       "    <tr>\n",
       "      <th>Male</th>\n",
       "      <td>3</td>\n",
       "      <td>9</td>\n",
       "      <td>17</td>\n",
       "      <td>29</td>\n",
       "    </tr>\n",
       "    <tr>\n",
       "      <th>All</th>\n",
       "      <td>12</td>\n",
       "      <td>22</td>\n",
       "      <td>28</td>\n",
       "      <td>62</td>\n",
       "    </tr>\n",
       "  </tbody>\n",
       "</table>\n",
       "</div>"
      ],
      "text/plain": [
       "Grad Intention  No  Undecided  Yes  All\n",
       "Gender                                 \n",
       "Female           9         13   11   33\n",
       "Male             3          9   17   29\n",
       "All             12         22   28   62"
      ]
     },
     "execution_count": 38,
     "metadata": {},
     "output_type": "execute_result"
    }
   ],
   "source": [
    "data_crosstab2 =pd.crosstab(survey['Gender'], survey['Grad Intention'], margins=True)\n",
    "data_crosstab2"
   ]
  },
  {
   "cell_type": "markdown",
   "id": "aa7af5b5",
   "metadata": {},
   "source": [
    "### 2.1.3. Gender and Employment"
   ]
  },
  {
   "cell_type": "code",
   "execution_count": 40,
   "id": "8b4bcfea",
   "metadata": {},
   "outputs": [
    {
     "data": {
      "text/html": [
       "<div>\n",
       "<style scoped>\n",
       "    .dataframe tbody tr th:only-of-type {\n",
       "        vertical-align: middle;\n",
       "    }\n",
       "\n",
       "    .dataframe tbody tr th {\n",
       "        vertical-align: top;\n",
       "    }\n",
       "\n",
       "    .dataframe thead th {\n",
       "        text-align: right;\n",
       "    }\n",
       "</style>\n",
       "<table border=\"1\" class=\"dataframe\">\n",
       "  <thead>\n",
       "    <tr style=\"text-align: right;\">\n",
       "      <th>Employment</th>\n",
       "      <th>Full-Time</th>\n",
       "      <th>Part-Time</th>\n",
       "      <th>Unemployed</th>\n",
       "      <th>All</th>\n",
       "    </tr>\n",
       "    <tr>\n",
       "      <th>Gender</th>\n",
       "      <th></th>\n",
       "      <th></th>\n",
       "      <th></th>\n",
       "      <th></th>\n",
       "    </tr>\n",
       "  </thead>\n",
       "  <tbody>\n",
       "    <tr>\n",
       "      <th>Female</th>\n",
       "      <td>3</td>\n",
       "      <td>24</td>\n",
       "      <td>6</td>\n",
       "      <td>33</td>\n",
       "    </tr>\n",
       "    <tr>\n",
       "      <th>Male</th>\n",
       "      <td>7</td>\n",
       "      <td>19</td>\n",
       "      <td>3</td>\n",
       "      <td>29</td>\n",
       "    </tr>\n",
       "    <tr>\n",
       "      <th>All</th>\n",
       "      <td>10</td>\n",
       "      <td>43</td>\n",
       "      <td>9</td>\n",
       "      <td>62</td>\n",
       "    </tr>\n",
       "  </tbody>\n",
       "</table>\n",
       "</div>"
      ],
      "text/plain": [
       "Employment  Full-Time  Part-Time  Unemployed  All\n",
       "Gender                                           \n",
       "Female              3         24           6   33\n",
       "Male                7         19           3   29\n",
       "All                10         43           9   62"
      ]
     },
     "execution_count": 40,
     "metadata": {},
     "output_type": "execute_result"
    }
   ],
   "source": [
    "data_crosstab3 =pd.crosstab(survey['Gender'], survey['Employment'], margins=True)\n",
    "data_crosstab3"
   ]
  },
  {
   "cell_type": "markdown",
   "id": "ef0a08f8",
   "metadata": {},
   "source": [
    "### 2.1.4. Gender and Computer"
   ]
  },
  {
   "cell_type": "code",
   "execution_count": 41,
   "id": "8c791d22",
   "metadata": {},
   "outputs": [
    {
     "data": {
      "text/html": [
       "<div>\n",
       "<style scoped>\n",
       "    .dataframe tbody tr th:only-of-type {\n",
       "        vertical-align: middle;\n",
       "    }\n",
       "\n",
       "    .dataframe tbody tr th {\n",
       "        vertical-align: top;\n",
       "    }\n",
       "\n",
       "    .dataframe thead th {\n",
       "        text-align: right;\n",
       "    }\n",
       "</style>\n",
       "<table border=\"1\" class=\"dataframe\">\n",
       "  <thead>\n",
       "    <tr style=\"text-align: right;\">\n",
       "      <th>Computer</th>\n",
       "      <th>Desktop</th>\n",
       "      <th>Laptop</th>\n",
       "      <th>Tablet</th>\n",
       "      <th>All</th>\n",
       "    </tr>\n",
       "    <tr>\n",
       "      <th>Gender</th>\n",
       "      <th></th>\n",
       "      <th></th>\n",
       "      <th></th>\n",
       "      <th></th>\n",
       "    </tr>\n",
       "  </thead>\n",
       "  <tbody>\n",
       "    <tr>\n",
       "      <th>Female</th>\n",
       "      <td>2</td>\n",
       "      <td>29</td>\n",
       "      <td>2</td>\n",
       "      <td>33</td>\n",
       "    </tr>\n",
       "    <tr>\n",
       "      <th>Male</th>\n",
       "      <td>3</td>\n",
       "      <td>26</td>\n",
       "      <td>0</td>\n",
       "      <td>29</td>\n",
       "    </tr>\n",
       "    <tr>\n",
       "      <th>All</th>\n",
       "      <td>5</td>\n",
       "      <td>55</td>\n",
       "      <td>2</td>\n",
       "      <td>62</td>\n",
       "    </tr>\n",
       "  </tbody>\n",
       "</table>\n",
       "</div>"
      ],
      "text/plain": [
       "Computer  Desktop  Laptop  Tablet  All\n",
       "Gender                                \n",
       "Female          2      29       2   33\n",
       "Male            3      26       0   29\n",
       "All             5      55       2   62"
      ]
     },
     "execution_count": 41,
     "metadata": {},
     "output_type": "execute_result"
    }
   ],
   "source": [
    "data_crosstab4 =pd.crosstab(survey['Gender'], survey['Computer'], margins=True)\n",
    "data_crosstab4"
   ]
  },
  {
   "cell_type": "markdown",
   "id": "dd7f53f1",
   "metadata": {},
   "source": [
    "## 2.2. Assume that the sample is representative of the population of CMSU. Based on the data, answer the following question:"
   ]
  },
  {
   "cell_type": "markdown",
   "id": "689635fc",
   "metadata": {},
   "source": [
    "### 2.2.1. What is the probability that a randomly selected CMSU student will be male?"
   ]
  },
  {
   "cell_type": "code",
   "execution_count": 44,
   "id": "62496e6d",
   "metadata": {},
   "outputs": [
    {
     "data": {
      "text/plain": [
       "29"
      ]
     },
     "execution_count": 44,
     "metadata": {},
     "output_type": "execute_result"
    }
   ],
   "source": [
    "total_no_of_male = len(survey.loc[survey['Gender']=='Male'])\n",
    "total_no_of_male"
   ]
  },
  {
   "cell_type": "code",
   "execution_count": 50,
   "id": "b160bdf6",
   "metadata": {},
   "outputs": [
    {
     "data": {
      "text/plain": [
       "62"
      ]
     },
     "execution_count": 50,
     "metadata": {},
     "output_type": "execute_result"
    }
   ],
   "source": [
    "total_no_of_people = survey.shape[0]\n",
    "total_no_of_people"
   ]
  },
  {
   "cell_type": "code",
   "execution_count": 52,
   "id": "a385ccfe",
   "metadata": {},
   "outputs": [
    {
     "data": {
      "text/plain": [
       "46.774193548387096"
      ]
     },
     "execution_count": 52,
     "metadata": {},
     "output_type": "execute_result"
    }
   ],
   "source": [
    "prob_of_male = (total_no_of_male/total_no_of_people)*100\n",
    "prob_of_male"
   ]
  },
  {
   "cell_type": "code",
   "execution_count": 54,
   "id": "d4965a60",
   "metadata": {},
   "outputs": [],
   "source": [
    "#the probability that a randomly selected CMSU student will be male is 46.77%"
   ]
  },
  {
   "cell_type": "markdown",
   "id": "4434028a",
   "metadata": {},
   "source": [
    "### 2.2.2. What is the probability that a randomly selected CMSU student will be female?"
   ]
  },
  {
   "cell_type": "code",
   "execution_count": 55,
   "id": "d1a18a86",
   "metadata": {},
   "outputs": [
    {
     "data": {
      "text/plain": [
       "33"
      ]
     },
     "execution_count": 55,
     "metadata": {},
     "output_type": "execute_result"
    }
   ],
   "source": [
    "total_no_of_female = len(survey.loc[survey['Gender']=='Female'])\n",
    "total_no_of_female"
   ]
  },
  {
   "cell_type": "code",
   "execution_count": 56,
   "id": "0f85a153",
   "metadata": {},
   "outputs": [
    {
     "data": {
      "text/plain": [
       "62"
      ]
     },
     "execution_count": 56,
     "metadata": {},
     "output_type": "execute_result"
    }
   ],
   "source": [
    "total_no_of_people = survey.shape[0]\n",
    "total_no_of_people"
   ]
  },
  {
   "cell_type": "code",
   "execution_count": 57,
   "id": "f7460a4a",
   "metadata": {},
   "outputs": [
    {
     "data": {
      "text/plain": [
       "53.2258064516129"
      ]
     },
     "execution_count": 57,
     "metadata": {},
     "output_type": "execute_result"
    }
   ],
   "source": [
    "prob_of_female = (total_no_of_female/total_no_of_people)*100\n",
    "prob_of_female"
   ]
  },
  {
   "cell_type": "code",
   "execution_count": 58,
   "id": "41def4f5",
   "metadata": {},
   "outputs": [],
   "source": [
    "#the probability that a randomly selected CMSU student will be male is 53.22%"
   ]
  },
  {
   "cell_type": "markdown",
   "id": "19b96e60",
   "metadata": {},
   "source": [
    "## 2.3. Assume that the sample is representative of the population of CMSU. Based on the data, answer the following question:"
   ]
  },
  {
   "cell_type": "markdown",
   "id": "8152dd41",
   "metadata": {},
   "source": [
    "### 2.3.1. Find the conditional probability of different majors among the male students in CMSU."
   ]
  },
  {
   "cell_type": "code",
   "execution_count": 59,
   "id": "e21bee3d",
   "metadata": {},
   "outputs": [
    {
     "data": {
      "text/html": [
       "<div>\n",
       "<style scoped>\n",
       "    .dataframe tbody tr th:only-of-type {\n",
       "        vertical-align: middle;\n",
       "    }\n",
       "\n",
       "    .dataframe tbody tr th {\n",
       "        vertical-align: top;\n",
       "    }\n",
       "\n",
       "    .dataframe thead th {\n",
       "        text-align: right;\n",
       "    }\n",
       "</style>\n",
       "<table border=\"1\" class=\"dataframe\">\n",
       "  <thead>\n",
       "    <tr style=\"text-align: right;\">\n",
       "      <th>Major</th>\n",
       "      <th>Accounting</th>\n",
       "      <th>CIS</th>\n",
       "      <th>Economics/Finance</th>\n",
       "      <th>International Business</th>\n",
       "      <th>Management</th>\n",
       "      <th>Other</th>\n",
       "      <th>Retailing/Marketing</th>\n",
       "      <th>Undecided</th>\n",
       "      <th>All</th>\n",
       "    </tr>\n",
       "    <tr>\n",
       "      <th>Gender</th>\n",
       "      <th></th>\n",
       "      <th></th>\n",
       "      <th></th>\n",
       "      <th></th>\n",
       "      <th></th>\n",
       "      <th></th>\n",
       "      <th></th>\n",
       "      <th></th>\n",
       "      <th></th>\n",
       "    </tr>\n",
       "  </thead>\n",
       "  <tbody>\n",
       "    <tr>\n",
       "      <th>Female</th>\n",
       "      <td>3</td>\n",
       "      <td>3</td>\n",
       "      <td>7</td>\n",
       "      <td>4</td>\n",
       "      <td>4</td>\n",
       "      <td>3</td>\n",
       "      <td>9</td>\n",
       "      <td>0</td>\n",
       "      <td>33</td>\n",
       "    </tr>\n",
       "    <tr>\n",
       "      <th>Male</th>\n",
       "      <td>4</td>\n",
       "      <td>1</td>\n",
       "      <td>4</td>\n",
       "      <td>2</td>\n",
       "      <td>6</td>\n",
       "      <td>4</td>\n",
       "      <td>5</td>\n",
       "      <td>3</td>\n",
       "      <td>29</td>\n",
       "    </tr>\n",
       "    <tr>\n",
       "      <th>All</th>\n",
       "      <td>7</td>\n",
       "      <td>4</td>\n",
       "      <td>11</td>\n",
       "      <td>6</td>\n",
       "      <td>10</td>\n",
       "      <td>7</td>\n",
       "      <td>14</td>\n",
       "      <td>3</td>\n",
       "      <td>62</td>\n",
       "    </tr>\n",
       "  </tbody>\n",
       "</table>\n",
       "</div>"
      ],
      "text/plain": [
       "Major   Accounting  CIS  Economics/Finance  International Business  \\\n",
       "Gender                                                               \n",
       "Female           3    3                  7                       4   \n",
       "Male             4    1                  4                       2   \n",
       "All              7    4                 11                       6   \n",
       "\n",
       "Major   Management  Other  Retailing/Marketing  Undecided  All  \n",
       "Gender                                                          \n",
       "Female           4      3                    9          0   33  \n",
       "Male             6      4                    5          3   29  \n",
       "All             10      7                   14          3   62  "
      ]
     },
     "execution_count": 59,
     "metadata": {},
     "output_type": "execute_result"
    }
   ],
   "source": [
    "data_crosstab1 =pd.crosstab(survey['Gender'], survey['Major'], margins=True)\n",
    "data_crosstab1"
   ]
  },
  {
   "cell_type": "code",
   "execution_count": 60,
   "id": "4fd2cd72",
   "metadata": {},
   "outputs": [
    {
     "data": {
      "text/html": [
       "<div>\n",
       "<style scoped>\n",
       "    .dataframe tbody tr th:only-of-type {\n",
       "        vertical-align: middle;\n",
       "    }\n",
       "\n",
       "    .dataframe tbody tr th {\n",
       "        vertical-align: top;\n",
       "    }\n",
       "\n",
       "    .dataframe thead th {\n",
       "        text-align: right;\n",
       "    }\n",
       "</style>\n",
       "<table border=\"1\" class=\"dataframe\">\n",
       "  <thead>\n",
       "    <tr style=\"text-align: right;\">\n",
       "      <th>Major</th>\n",
       "      <th>Accounting</th>\n",
       "      <th>CIS</th>\n",
       "      <th>Economics/Finance</th>\n",
       "      <th>International Business</th>\n",
       "      <th>Management</th>\n",
       "      <th>Other</th>\n",
       "      <th>Retailing/Marketing</th>\n",
       "      <th>Undecided</th>\n",
       "    </tr>\n",
       "    <tr>\n",
       "      <th>Gender</th>\n",
       "      <th></th>\n",
       "      <th></th>\n",
       "      <th></th>\n",
       "      <th></th>\n",
       "      <th></th>\n",
       "      <th></th>\n",
       "      <th></th>\n",
       "      <th></th>\n",
       "    </tr>\n",
       "  </thead>\n",
       "  <tbody>\n",
       "    <tr>\n",
       "      <th>Female</th>\n",
       "      <td>0.09</td>\n",
       "      <td>0.09</td>\n",
       "      <td>0.21</td>\n",
       "      <td>0.12</td>\n",
       "      <td>0.12</td>\n",
       "      <td>0.09</td>\n",
       "      <td>0.27</td>\n",
       "      <td>0.00</td>\n",
       "    </tr>\n",
       "    <tr>\n",
       "      <th>Male</th>\n",
       "      <td>0.14</td>\n",
       "      <td>0.03</td>\n",
       "      <td>0.14</td>\n",
       "      <td>0.07</td>\n",
       "      <td>0.21</td>\n",
       "      <td>0.14</td>\n",
       "      <td>0.17</td>\n",
       "      <td>0.10</td>\n",
       "    </tr>\n",
       "    <tr>\n",
       "      <th>All</th>\n",
       "      <td>0.11</td>\n",
       "      <td>0.06</td>\n",
       "      <td>0.18</td>\n",
       "      <td>0.10</td>\n",
       "      <td>0.16</td>\n",
       "      <td>0.11</td>\n",
       "      <td>0.23</td>\n",
       "      <td>0.05</td>\n",
       "    </tr>\n",
       "  </tbody>\n",
       "</table>\n",
       "</div>"
      ],
      "text/plain": [
       "Major   Accounting  CIS  Economics/Finance  International Business  \\\n",
       "Gender                                                               \n",
       "Female        0.09 0.09               0.21                    0.12   \n",
       "Male          0.14 0.03               0.14                    0.07   \n",
       "All           0.11 0.06               0.18                    0.10   \n",
       "\n",
       "Major   Management  Other  Retailing/Marketing  Undecided  \n",
       "Gender                                                     \n",
       "Female        0.12   0.09                 0.27       0.00  \n",
       "Male          0.21   0.14                 0.17       0.10  \n",
       "All           0.16   0.11                 0.23       0.05  "
      ]
     },
     "execution_count": 60,
     "metadata": {},
     "output_type": "execute_result"
    }
   ],
   "source": [
    "data_crosstab5 =pd.crosstab(survey['Gender'], survey['Major'], margins=True,normalize='index')\n",
    "data_crosstab5"
   ]
  },
  {
   "cell_type": "markdown",
   "id": "bfe3d6c4",
   "metadata": {},
   "source": [
    "### 2.3.2 Find the conditional probability of different majors among the female students of CMSU."
   ]
  },
  {
   "cell_type": "code",
   "execution_count": 61,
   "id": "091fd733",
   "metadata": {},
   "outputs": [
    {
     "data": {
      "text/html": [
       "<div>\n",
       "<style scoped>\n",
       "    .dataframe tbody tr th:only-of-type {\n",
       "        vertical-align: middle;\n",
       "    }\n",
       "\n",
       "    .dataframe tbody tr th {\n",
       "        vertical-align: top;\n",
       "    }\n",
       "\n",
       "    .dataframe thead th {\n",
       "        text-align: right;\n",
       "    }\n",
       "</style>\n",
       "<table border=\"1\" class=\"dataframe\">\n",
       "  <thead>\n",
       "    <tr style=\"text-align: right;\">\n",
       "      <th>Major</th>\n",
       "      <th>Accounting</th>\n",
       "      <th>CIS</th>\n",
       "      <th>Economics/Finance</th>\n",
       "      <th>International Business</th>\n",
       "      <th>Management</th>\n",
       "      <th>Other</th>\n",
       "      <th>Retailing/Marketing</th>\n",
       "      <th>Undecided</th>\n",
       "    </tr>\n",
       "    <tr>\n",
       "      <th>Gender</th>\n",
       "      <th></th>\n",
       "      <th></th>\n",
       "      <th></th>\n",
       "      <th></th>\n",
       "      <th></th>\n",
       "      <th></th>\n",
       "      <th></th>\n",
       "      <th></th>\n",
       "    </tr>\n",
       "  </thead>\n",
       "  <tbody>\n",
       "    <tr>\n",
       "      <th>Female</th>\n",
       "      <td>0.09</td>\n",
       "      <td>0.09</td>\n",
       "      <td>0.21</td>\n",
       "      <td>0.12</td>\n",
       "      <td>0.12</td>\n",
       "      <td>0.09</td>\n",
       "      <td>0.27</td>\n",
       "      <td>0.00</td>\n",
       "    </tr>\n",
       "    <tr>\n",
       "      <th>Male</th>\n",
       "      <td>0.14</td>\n",
       "      <td>0.03</td>\n",
       "      <td>0.14</td>\n",
       "      <td>0.07</td>\n",
       "      <td>0.21</td>\n",
       "      <td>0.14</td>\n",
       "      <td>0.17</td>\n",
       "      <td>0.10</td>\n",
       "    </tr>\n",
       "    <tr>\n",
       "      <th>All</th>\n",
       "      <td>0.11</td>\n",
       "      <td>0.06</td>\n",
       "      <td>0.18</td>\n",
       "      <td>0.10</td>\n",
       "      <td>0.16</td>\n",
       "      <td>0.11</td>\n",
       "      <td>0.23</td>\n",
       "      <td>0.05</td>\n",
       "    </tr>\n",
       "  </tbody>\n",
       "</table>\n",
       "</div>"
      ],
      "text/plain": [
       "Major   Accounting  CIS  Economics/Finance  International Business  \\\n",
       "Gender                                                               \n",
       "Female        0.09 0.09               0.21                    0.12   \n",
       "Male          0.14 0.03               0.14                    0.07   \n",
       "All           0.11 0.06               0.18                    0.10   \n",
       "\n",
       "Major   Management  Other  Retailing/Marketing  Undecided  \n",
       "Gender                                                     \n",
       "Female        0.12   0.09                 0.27       0.00  \n",
       "Male          0.21   0.14                 0.17       0.10  \n",
       "All           0.16   0.11                 0.23       0.05  "
      ]
     },
     "execution_count": 61,
     "metadata": {},
     "output_type": "execute_result"
    }
   ],
   "source": [
    "data_crosstab5 =pd.crosstab(survey['Gender'], survey['Major'], margins=True,normalize='index')\n",
    "data_crosstab5"
   ]
  },
  {
   "cell_type": "markdown",
   "id": "8be765f6",
   "metadata": {},
   "source": [
    "## 2.4. Assume that the sample is a representative of the population of CMSU. Based on the data, answer the following question:"
   ]
  },
  {
   "cell_type": "markdown",
   "id": "0598c3c0",
   "metadata": {},
   "source": [
    "### 2.4.1. Find the probability That a randomly chosen student is a male and intends to graduate."
   ]
  },
  {
   "cell_type": "code",
   "execution_count": 62,
   "id": "2ff786cc",
   "metadata": {},
   "outputs": [
    {
     "data": {
      "text/html": [
       "<div>\n",
       "<style scoped>\n",
       "    .dataframe tbody tr th:only-of-type {\n",
       "        vertical-align: middle;\n",
       "    }\n",
       "\n",
       "    .dataframe tbody tr th {\n",
       "        vertical-align: top;\n",
       "    }\n",
       "\n",
       "    .dataframe thead th {\n",
       "        text-align: right;\n",
       "    }\n",
       "</style>\n",
       "<table border=\"1\" class=\"dataframe\">\n",
       "  <thead>\n",
       "    <tr style=\"text-align: right;\">\n",
       "      <th>Grad Intention</th>\n",
       "      <th>No</th>\n",
       "      <th>Undecided</th>\n",
       "      <th>Yes</th>\n",
       "      <th>All</th>\n",
       "    </tr>\n",
       "    <tr>\n",
       "      <th>Gender</th>\n",
       "      <th></th>\n",
       "      <th></th>\n",
       "      <th></th>\n",
       "      <th></th>\n",
       "    </tr>\n",
       "  </thead>\n",
       "  <tbody>\n",
       "    <tr>\n",
       "      <th>Female</th>\n",
       "      <td>9</td>\n",
       "      <td>13</td>\n",
       "      <td>11</td>\n",
       "      <td>33</td>\n",
       "    </tr>\n",
       "    <tr>\n",
       "      <th>Male</th>\n",
       "      <td>3</td>\n",
       "      <td>9</td>\n",
       "      <td>17</td>\n",
       "      <td>29</td>\n",
       "    </tr>\n",
       "    <tr>\n",
       "      <th>All</th>\n",
       "      <td>12</td>\n",
       "      <td>22</td>\n",
       "      <td>28</td>\n",
       "      <td>62</td>\n",
       "    </tr>\n",
       "  </tbody>\n",
       "</table>\n",
       "</div>"
      ],
      "text/plain": [
       "Grad Intention  No  Undecided  Yes  All\n",
       "Gender                                 \n",
       "Female           9         13   11   33\n",
       "Male             3          9   17   29\n",
       "All             12         22   28   62"
      ]
     },
     "execution_count": 62,
     "metadata": {},
     "output_type": "execute_result"
    }
   ],
   "source": [
    "data_crosstab2 =pd.crosstab(survey['Gender'], survey['Grad Intention'], margins=True)\n",
    "data_crosstab2"
   ]
  },
  {
   "cell_type": "code",
   "execution_count": 63,
   "id": "26af1256",
   "metadata": {},
   "outputs": [
    {
     "data": {
      "text/html": [
       "<div>\n",
       "<style scoped>\n",
       "    .dataframe tbody tr th:only-of-type {\n",
       "        vertical-align: middle;\n",
       "    }\n",
       "\n",
       "    .dataframe tbody tr th {\n",
       "        vertical-align: top;\n",
       "    }\n",
       "\n",
       "    .dataframe thead th {\n",
       "        text-align: right;\n",
       "    }\n",
       "</style>\n",
       "<table border=\"1\" class=\"dataframe\">\n",
       "  <thead>\n",
       "    <tr style=\"text-align: right;\">\n",
       "      <th>Grad Intention</th>\n",
       "      <th>No</th>\n",
       "      <th>Undecided</th>\n",
       "      <th>Yes</th>\n",
       "    </tr>\n",
       "    <tr>\n",
       "      <th>Gender</th>\n",
       "      <th></th>\n",
       "      <th></th>\n",
       "      <th></th>\n",
       "    </tr>\n",
       "  </thead>\n",
       "  <tbody>\n",
       "    <tr>\n",
       "      <th>Female</th>\n",
       "      <td>0.27</td>\n",
       "      <td>0.39</td>\n",
       "      <td>0.33</td>\n",
       "    </tr>\n",
       "    <tr>\n",
       "      <th>Male</th>\n",
       "      <td>0.10</td>\n",
       "      <td>0.31</td>\n",
       "      <td>0.59</td>\n",
       "    </tr>\n",
       "    <tr>\n",
       "      <th>All</th>\n",
       "      <td>0.19</td>\n",
       "      <td>0.35</td>\n",
       "      <td>0.45</td>\n",
       "    </tr>\n",
       "  </tbody>\n",
       "</table>\n",
       "</div>"
      ],
      "text/plain": [
       "Grad Intention   No  Undecided  Yes\n",
       "Gender                             \n",
       "Female         0.27       0.39 0.33\n",
       "Male           0.10       0.31 0.59\n",
       "All            0.19       0.35 0.45"
      ]
     },
     "execution_count": 63,
     "metadata": {},
     "output_type": "execute_result"
    }
   ],
   "source": [
    "data_crosstab6 =pd.crosstab(survey['Gender'], survey['Grad Intention'], margins=True, normalize='index')\n",
    "data_crosstab6"
   ]
  },
  {
   "cell_type": "code",
   "execution_count": 64,
   "id": "23235c60",
   "metadata": {},
   "outputs": [],
   "source": [
    "#from crosstab"
   ]
  },
  {
   "cell_type": "code",
   "execution_count": 65,
   "id": "6fc737fc",
   "metadata": {},
   "outputs": [
    {
     "data": {
      "text/plain": [
       "58.620689655172406"
      ]
     },
     "execution_count": 65,
     "metadata": {},
     "output_type": "execute_result"
    }
   ],
   "source": [
    "male_intend_graduate = 17\n",
    "total_no_of_male = 29\n",
    "prob_male_intend_graduate = (17/29)*100\n",
    "prob_male_intend_graduate"
   ]
  },
  {
   "cell_type": "code",
   "execution_count": 75,
   "id": "ba18dd9e",
   "metadata": {},
   "outputs": [],
   "source": [
    "#therefore the probability of male intend to graduate is 59%"
   ]
  },
  {
   "cell_type": "markdown",
   "id": "b9e01251",
   "metadata": {},
   "source": [
    "### 2.4.2 Find the probability that a randomly selected student is a female and does NOT have a laptop."
   ]
  },
  {
   "cell_type": "code",
   "execution_count": 68,
   "id": "78b83541",
   "metadata": {},
   "outputs": [
    {
     "data": {
      "text/html": [
       "<div>\n",
       "<style scoped>\n",
       "    .dataframe tbody tr th:only-of-type {\n",
       "        vertical-align: middle;\n",
       "    }\n",
       "\n",
       "    .dataframe tbody tr th {\n",
       "        vertical-align: top;\n",
       "    }\n",
       "\n",
       "    .dataframe thead th {\n",
       "        text-align: right;\n",
       "    }\n",
       "</style>\n",
       "<table border=\"1\" class=\"dataframe\">\n",
       "  <thead>\n",
       "    <tr style=\"text-align: right;\">\n",
       "      <th>Computer</th>\n",
       "      <th>Desktop</th>\n",
       "      <th>Laptop</th>\n",
       "      <th>Tablet</th>\n",
       "      <th>All</th>\n",
       "    </tr>\n",
       "    <tr>\n",
       "      <th>Gender</th>\n",
       "      <th></th>\n",
       "      <th></th>\n",
       "      <th></th>\n",
       "      <th></th>\n",
       "    </tr>\n",
       "  </thead>\n",
       "  <tbody>\n",
       "    <tr>\n",
       "      <th>Female</th>\n",
       "      <td>2</td>\n",
       "      <td>29</td>\n",
       "      <td>2</td>\n",
       "      <td>33</td>\n",
       "    </tr>\n",
       "    <tr>\n",
       "      <th>Male</th>\n",
       "      <td>3</td>\n",
       "      <td>26</td>\n",
       "      <td>0</td>\n",
       "      <td>29</td>\n",
       "    </tr>\n",
       "    <tr>\n",
       "      <th>All</th>\n",
       "      <td>5</td>\n",
       "      <td>55</td>\n",
       "      <td>2</td>\n",
       "      <td>62</td>\n",
       "    </tr>\n",
       "  </tbody>\n",
       "</table>\n",
       "</div>"
      ],
      "text/plain": [
       "Computer  Desktop  Laptop  Tablet  All\n",
       "Gender                                \n",
       "Female          2      29       2   33\n",
       "Male            3      26       0   29\n",
       "All             5      55       2   62"
      ]
     },
     "execution_count": 68,
     "metadata": {},
     "output_type": "execute_result"
    }
   ],
   "source": [
    "data_crosstab4 =pd.crosstab(survey['Gender'], survey['Computer'], margins=True)\n",
    "data_crosstab4"
   ]
  },
  {
   "cell_type": "code",
   "execution_count": 69,
   "id": "b269d0c1",
   "metadata": {},
   "outputs": [
    {
     "data": {
      "text/html": [
       "<div>\n",
       "<style scoped>\n",
       "    .dataframe tbody tr th:only-of-type {\n",
       "        vertical-align: middle;\n",
       "    }\n",
       "\n",
       "    .dataframe tbody tr th {\n",
       "        vertical-align: top;\n",
       "    }\n",
       "\n",
       "    .dataframe thead th {\n",
       "        text-align: right;\n",
       "    }\n",
       "</style>\n",
       "<table border=\"1\" class=\"dataframe\">\n",
       "  <thead>\n",
       "    <tr style=\"text-align: right;\">\n",
       "      <th>Computer</th>\n",
       "      <th>Desktop</th>\n",
       "      <th>Laptop</th>\n",
       "      <th>Tablet</th>\n",
       "    </tr>\n",
       "    <tr>\n",
       "      <th>Gender</th>\n",
       "      <th></th>\n",
       "      <th></th>\n",
       "      <th></th>\n",
       "    </tr>\n",
       "  </thead>\n",
       "  <tbody>\n",
       "    <tr>\n",
       "      <th>Female</th>\n",
       "      <td>0.06</td>\n",
       "      <td>0.88</td>\n",
       "      <td>0.06</td>\n",
       "    </tr>\n",
       "    <tr>\n",
       "      <th>Male</th>\n",
       "      <td>0.10</td>\n",
       "      <td>0.90</td>\n",
       "      <td>0.00</td>\n",
       "    </tr>\n",
       "    <tr>\n",
       "      <th>All</th>\n",
       "      <td>0.08</td>\n",
       "      <td>0.89</td>\n",
       "      <td>0.03</td>\n",
       "    </tr>\n",
       "  </tbody>\n",
       "</table>\n",
       "</div>"
      ],
      "text/plain": [
       "Computer  Desktop  Laptop  Tablet\n",
       "Gender                           \n",
       "Female       0.06    0.88    0.06\n",
       "Male         0.10    0.90    0.00\n",
       "All          0.08    0.89    0.03"
      ]
     },
     "execution_count": 69,
     "metadata": {},
     "output_type": "execute_result"
    }
   ],
   "source": [
    "data_crosstab7 =pd.crosstab(survey['Gender'], survey['Computer'], margins=True, normalize='index')\n",
    "data_crosstab7"
   ]
  },
  {
   "cell_type": "code",
   "execution_count": 70,
   "id": "1e537b23",
   "metadata": {},
   "outputs": [],
   "source": [
    "#from contingency table"
   ]
  },
  {
   "cell_type": "code",
   "execution_count": 71,
   "id": "2d0b83ac",
   "metadata": {},
   "outputs": [
    {
     "data": {
      "text/plain": [
       "87.87878787878788"
      ]
     },
     "execution_count": 71,
     "metadata": {},
     "output_type": "execute_result"
    }
   ],
   "source": [
    "female_with_laptop = 29\n",
    "total_no_of_female = 33\n",
    "prob_female_with_laptop = (29/33)*100\n",
    "prob_female_with_laptop"
   ]
  },
  {
   "cell_type": "code",
   "execution_count": 74,
   "id": "cf2c01a0",
   "metadata": {},
   "outputs": [
    {
     "data": {
      "text/plain": [
       "12.121212121212125"
      ]
     },
     "execution_count": 74,
     "metadata": {},
     "output_type": "execute_result"
    }
   ],
   "source": [
    "pro_female_without_laptop = 100 - prob_female_with_laptop\n",
    "pro_female_without_laptop"
   ]
  },
  {
   "cell_type": "code",
   "execution_count": 76,
   "id": "6be89a30",
   "metadata": {},
   "outputs": [],
   "source": [
    "#therefore the probability that a randomly selected student is a female and does NOT have a laptop is 12%"
   ]
  },
  {
   "cell_type": "markdown",
   "id": "b114fce8",
   "metadata": {},
   "source": [
    "## 2.5. Assume that the sample is representative of the population of CMSU. Based on the data, answer the following question:"
   ]
  },
  {
   "cell_type": "markdown",
   "id": "c6f7221d",
   "metadata": {},
   "source": [
    "### 2.5.1. Find the probability that a randomly chosen student is a male or has full-time employment?"
   ]
  },
  {
   "cell_type": "code",
   "execution_count": 77,
   "id": "86e23546",
   "metadata": {},
   "outputs": [
    {
     "data": {
      "text/plain": [
       "46.774193548387096"
      ]
     },
     "execution_count": 77,
     "metadata": {},
     "output_type": "execute_result"
    }
   ],
   "source": [
    "prob_of_male"
   ]
  },
  {
   "cell_type": "code",
   "execution_count": 78,
   "id": "5cfa78eb",
   "metadata": {},
   "outputs": [
    {
     "data": {
      "text/html": [
       "<div>\n",
       "<style scoped>\n",
       "    .dataframe tbody tr th:only-of-type {\n",
       "        vertical-align: middle;\n",
       "    }\n",
       "\n",
       "    .dataframe tbody tr th {\n",
       "        vertical-align: top;\n",
       "    }\n",
       "\n",
       "    .dataframe thead th {\n",
       "        text-align: right;\n",
       "    }\n",
       "</style>\n",
       "<table border=\"1\" class=\"dataframe\">\n",
       "  <thead>\n",
       "    <tr style=\"text-align: right;\">\n",
       "      <th>Employment</th>\n",
       "      <th>Full-Time</th>\n",
       "      <th>Part-Time</th>\n",
       "      <th>Unemployed</th>\n",
       "      <th>All</th>\n",
       "    </tr>\n",
       "    <tr>\n",
       "      <th>Gender</th>\n",
       "      <th></th>\n",
       "      <th></th>\n",
       "      <th></th>\n",
       "      <th></th>\n",
       "    </tr>\n",
       "  </thead>\n",
       "  <tbody>\n",
       "    <tr>\n",
       "      <th>Female</th>\n",
       "      <td>3</td>\n",
       "      <td>24</td>\n",
       "      <td>6</td>\n",
       "      <td>33</td>\n",
       "    </tr>\n",
       "    <tr>\n",
       "      <th>Male</th>\n",
       "      <td>7</td>\n",
       "      <td>19</td>\n",
       "      <td>3</td>\n",
       "      <td>29</td>\n",
       "    </tr>\n",
       "    <tr>\n",
       "      <th>All</th>\n",
       "      <td>10</td>\n",
       "      <td>43</td>\n",
       "      <td>9</td>\n",
       "      <td>62</td>\n",
       "    </tr>\n",
       "  </tbody>\n",
       "</table>\n",
       "</div>"
      ],
      "text/plain": [
       "Employment  Full-Time  Part-Time  Unemployed  All\n",
       "Gender                                           \n",
       "Female              3         24           6   33\n",
       "Male                7         19           3   29\n",
       "All                10         43           9   62"
      ]
     },
     "execution_count": 78,
     "metadata": {},
     "output_type": "execute_result"
    }
   ],
   "source": [
    "data_crosstab3 =pd.crosstab(survey['Gender'], survey['Employment'], margins=True)\n",
    "data_crosstab3"
   ]
  },
  {
   "cell_type": "code",
   "execution_count": null,
   "id": "2dea428d",
   "metadata": {},
   "outputs": [],
   "source": [
    "#from contingency table"
   ]
  },
  {
   "cell_type": "code",
   "execution_count": 80,
   "id": "241d5076",
   "metadata": {},
   "outputs": [
    {
     "data": {
      "text/plain": [
       "16.129032258064516"
      ]
     },
     "execution_count": 80,
     "metadata": {},
     "output_type": "execute_result"
    }
   ],
   "source": [
    "pro_having_job = (10/62)*100\n",
    "pro_having_job"
   ]
  },
  {
   "cell_type": "code",
   "execution_count": 81,
   "id": "6c2f6622",
   "metadata": {},
   "outputs": [
    {
     "data": {
      "text/plain": [
       "11.29032258064516"
      ]
     },
     "execution_count": 81,
     "metadata": {},
     "output_type": "execute_result"
    }
   ],
   "source": [
    "male_with_full_employment = (7/62)*100\n",
    "male_with_full_employment"
   ]
  },
  {
   "cell_type": "code",
   "execution_count": 82,
   "id": "cd3725bc",
   "metadata": {},
   "outputs": [
    {
     "data": {
      "text/plain": [
       "51.612903225806456"
      ]
     },
     "execution_count": 82,
     "metadata": {},
     "output_type": "execute_result"
    }
   ],
   "source": [
    "prob_male_or_full_employment = prob_of_male + pro_having_job - male_with_full_employment\n",
    "prob_male_or_full_employment"
   ]
  },
  {
   "cell_type": "code",
   "execution_count": 83,
   "id": "d4f50a0d",
   "metadata": {},
   "outputs": [],
   "source": [
    "#therefore probability that a randomly chosen student is a male or has full-time employment is 51.61%"
   ]
  },
  {
   "cell_type": "markdown",
   "id": "47c7d77e",
   "metadata": {},
   "source": [
    "### 2.5.2. Find the conditional probability that given a female student is randomly chosen, she is majoring in international business or management."
   ]
  },
  {
   "cell_type": "code",
   "execution_count": 84,
   "id": "4a4fe957",
   "metadata": {
    "scrolled": true
   },
   "outputs": [
    {
     "data": {
      "text/html": [
       "<div>\n",
       "<style scoped>\n",
       "    .dataframe tbody tr th:only-of-type {\n",
       "        vertical-align: middle;\n",
       "    }\n",
       "\n",
       "    .dataframe tbody tr th {\n",
       "        vertical-align: top;\n",
       "    }\n",
       "\n",
       "    .dataframe thead th {\n",
       "        text-align: right;\n",
       "    }\n",
       "</style>\n",
       "<table border=\"1\" class=\"dataframe\">\n",
       "  <thead>\n",
       "    <tr style=\"text-align: right;\">\n",
       "      <th>Major</th>\n",
       "      <th>Accounting</th>\n",
       "      <th>CIS</th>\n",
       "      <th>Economics/Finance</th>\n",
       "      <th>International Business</th>\n",
       "      <th>Management</th>\n",
       "      <th>Other</th>\n",
       "      <th>Retailing/Marketing</th>\n",
       "      <th>Undecided</th>\n",
       "      <th>All</th>\n",
       "    </tr>\n",
       "    <tr>\n",
       "      <th>Gender</th>\n",
       "      <th></th>\n",
       "      <th></th>\n",
       "      <th></th>\n",
       "      <th></th>\n",
       "      <th></th>\n",
       "      <th></th>\n",
       "      <th></th>\n",
       "      <th></th>\n",
       "      <th></th>\n",
       "    </tr>\n",
       "  </thead>\n",
       "  <tbody>\n",
       "    <tr>\n",
       "      <th>Female</th>\n",
       "      <td>3</td>\n",
       "      <td>3</td>\n",
       "      <td>7</td>\n",
       "      <td>4</td>\n",
       "      <td>4</td>\n",
       "      <td>3</td>\n",
       "      <td>9</td>\n",
       "      <td>0</td>\n",
       "      <td>33</td>\n",
       "    </tr>\n",
       "    <tr>\n",
       "      <th>Male</th>\n",
       "      <td>4</td>\n",
       "      <td>1</td>\n",
       "      <td>4</td>\n",
       "      <td>2</td>\n",
       "      <td>6</td>\n",
       "      <td>4</td>\n",
       "      <td>5</td>\n",
       "      <td>3</td>\n",
       "      <td>29</td>\n",
       "    </tr>\n",
       "    <tr>\n",
       "      <th>All</th>\n",
       "      <td>7</td>\n",
       "      <td>4</td>\n",
       "      <td>11</td>\n",
       "      <td>6</td>\n",
       "      <td>10</td>\n",
       "      <td>7</td>\n",
       "      <td>14</td>\n",
       "      <td>3</td>\n",
       "      <td>62</td>\n",
       "    </tr>\n",
       "  </tbody>\n",
       "</table>\n",
       "</div>"
      ],
      "text/plain": [
       "Major   Accounting  CIS  Economics/Finance  International Business  \\\n",
       "Gender                                                               \n",
       "Female           3    3                  7                       4   \n",
       "Male             4    1                  4                       2   \n",
       "All              7    4                 11                       6   \n",
       "\n",
       "Major   Management  Other  Retailing/Marketing  Undecided  All  \n",
       "Gender                                                          \n",
       "Female           4      3                    9          0   33  \n",
       "Male             6      4                    5          3   29  \n",
       "All             10      7                   14          3   62  "
      ]
     },
     "execution_count": 84,
     "metadata": {},
     "output_type": "execute_result"
    }
   ],
   "source": [
    "data_crosstab1 =pd.crosstab(survey['Gender'], survey['Major'], margins=True)\n",
    "data_crosstab1"
   ]
  },
  {
   "cell_type": "code",
   "execution_count": 85,
   "id": "964baca2",
   "metadata": {},
   "outputs": [],
   "source": [
    "#from contingency table"
   ]
  },
  {
   "cell_type": "code",
   "execution_count": 86,
   "id": "eaa6133e",
   "metadata": {},
   "outputs": [
    {
     "data": {
      "text/plain": [
       "12.121212121212121"
      ]
     },
     "execution_count": 86,
     "metadata": {},
     "output_type": "execute_result"
    }
   ],
   "source": [
    "prob_female_intnl_busns = (4/33)*100\n",
    "prob_female_intnl_busns"
   ]
  },
  {
   "cell_type": "code",
   "execution_count": 87,
   "id": "bf4d9ab8",
   "metadata": {},
   "outputs": [
    {
     "data": {
      "text/plain": [
       "12.121212121212121"
      ]
     },
     "execution_count": 87,
     "metadata": {},
     "output_type": "execute_result"
    }
   ],
   "source": [
    "prob_female_mngmnt = (4/33)*100\n",
    "prob_female_mngmnt"
   ]
  },
  {
   "cell_type": "code",
   "execution_count": 88,
   "id": "958fbd4c",
   "metadata": {},
   "outputs": [
    {
     "data": {
      "text/plain": [
       "24.242424242424242"
      ]
     },
     "execution_count": 88,
     "metadata": {},
     "output_type": "execute_result"
    }
   ],
   "source": [
    "prob_intnl_busns_mngmnt = prob_female_intnl_busns + prob_female_mngmnt\n",
    "prob_intnl_busns_mngmnt"
   ]
  },
  {
   "cell_type": "code",
   "execution_count": 89,
   "id": "40edad47",
   "metadata": {},
   "outputs": [],
   "source": [
    "#conditional probability that given a female student is randomly chosen, she is majoring in international business or management is 24.24%"
   ]
  },
  {
   "cell_type": "markdown",
   "id": "cdd604d5",
   "metadata": {},
   "source": [
    "## 2.6.  Construct a contingency table of Gender and Intent to Graduate at 2 levels (Yes/No). The Undecided students are not considered now and the table is a 2x2 table. Do you think the graduate intention and being female are independent events?"
   ]
  },
  {
   "cell_type": "code",
   "execution_count": 90,
   "id": "ef01cf28",
   "metadata": {},
   "outputs": [
    {
     "data": {
      "text/html": [
       "<div>\n",
       "<style scoped>\n",
       "    .dataframe tbody tr th:only-of-type {\n",
       "        vertical-align: middle;\n",
       "    }\n",
       "\n",
       "    .dataframe tbody tr th {\n",
       "        vertical-align: top;\n",
       "    }\n",
       "\n",
       "    .dataframe thead th {\n",
       "        text-align: right;\n",
       "    }\n",
       "</style>\n",
       "<table border=\"1\" class=\"dataframe\">\n",
       "  <thead>\n",
       "    <tr style=\"text-align: right;\">\n",
       "      <th></th>\n",
       "      <th>ID</th>\n",
       "      <th>Gender</th>\n",
       "      <th>Age</th>\n",
       "      <th>Class</th>\n",
       "      <th>Major</th>\n",
       "      <th>Grad Intention</th>\n",
       "      <th>GPA</th>\n",
       "      <th>Employment</th>\n",
       "      <th>Salary</th>\n",
       "      <th>Social Networking</th>\n",
       "      <th>Satisfaction</th>\n",
       "      <th>Spending</th>\n",
       "      <th>Computer</th>\n",
       "      <th>Text Messages</th>\n",
       "    </tr>\n",
       "  </thead>\n",
       "  <tbody>\n",
       "    <tr>\n",
       "      <th>0</th>\n",
       "      <td>1</td>\n",
       "      <td>Female</td>\n",
       "      <td>20</td>\n",
       "      <td>Junior</td>\n",
       "      <td>Other</td>\n",
       "      <td>Yes</td>\n",
       "      <td>2.90</td>\n",
       "      <td>Full-Time</td>\n",
       "      <td>50.00</td>\n",
       "      <td>1</td>\n",
       "      <td>3</td>\n",
       "      <td>350</td>\n",
       "      <td>Laptop</td>\n",
       "      <td>200</td>\n",
       "    </tr>\n",
       "    <tr>\n",
       "      <th>1</th>\n",
       "      <td>2</td>\n",
       "      <td>Male</td>\n",
       "      <td>23</td>\n",
       "      <td>Senior</td>\n",
       "      <td>Management</td>\n",
       "      <td>Yes</td>\n",
       "      <td>3.60</td>\n",
       "      <td>Part-Time</td>\n",
       "      <td>25.00</td>\n",
       "      <td>1</td>\n",
       "      <td>4</td>\n",
       "      <td>360</td>\n",
       "      <td>Laptop</td>\n",
       "      <td>50</td>\n",
       "    </tr>\n",
       "    <tr>\n",
       "      <th>2</th>\n",
       "      <td>3</td>\n",
       "      <td>Male</td>\n",
       "      <td>21</td>\n",
       "      <td>Junior</td>\n",
       "      <td>Other</td>\n",
       "      <td>Yes</td>\n",
       "      <td>2.50</td>\n",
       "      <td>Part-Time</td>\n",
       "      <td>45.00</td>\n",
       "      <td>2</td>\n",
       "      <td>4</td>\n",
       "      <td>600</td>\n",
       "      <td>Laptop</td>\n",
       "      <td>200</td>\n",
       "    </tr>\n",
       "    <tr>\n",
       "      <th>3</th>\n",
       "      <td>4</td>\n",
       "      <td>Male</td>\n",
       "      <td>21</td>\n",
       "      <td>Junior</td>\n",
       "      <td>CIS</td>\n",
       "      <td>Yes</td>\n",
       "      <td>2.50</td>\n",
       "      <td>Full-Time</td>\n",
       "      <td>40.00</td>\n",
       "      <td>4</td>\n",
       "      <td>6</td>\n",
       "      <td>600</td>\n",
       "      <td>Laptop</td>\n",
       "      <td>250</td>\n",
       "    </tr>\n",
       "    <tr>\n",
       "      <th>8</th>\n",
       "      <td>9</td>\n",
       "      <td>Female</td>\n",
       "      <td>20</td>\n",
       "      <td>Junior</td>\n",
       "      <td>Management</td>\n",
       "      <td>Yes</td>\n",
       "      <td>3.60</td>\n",
       "      <td>Unemployed</td>\n",
       "      <td>30.00</td>\n",
       "      <td>0</td>\n",
       "      <td>4</td>\n",
       "      <td>500</td>\n",
       "      <td>Laptop</td>\n",
       "      <td>400</td>\n",
       "    </tr>\n",
       "  </tbody>\n",
       "</table>\n",
       "</div>"
      ],
      "text/plain": [
       "   ID  Gender  Age   Class       Major Grad Intention  GPA  Employment  \\\n",
       "0   1  Female   20  Junior       Other            Yes 2.90   Full-Time   \n",
       "1   2    Male   23  Senior  Management            Yes 3.60   Part-Time   \n",
       "2   3    Male   21  Junior       Other            Yes 2.50   Part-Time   \n",
       "3   4    Male   21  Junior         CIS            Yes 2.50   Full-Time   \n",
       "8   9  Female   20  Junior  Management            Yes 3.60  Unemployed   \n",
       "\n",
       "   Salary  Social Networking  Satisfaction  Spending Computer  Text Messages  \n",
       "0   50.00                  1             3       350   Laptop            200  \n",
       "1   25.00                  1             4       360   Laptop             50  \n",
       "2   45.00                  2             4       600   Laptop            200  \n",
       "3   40.00                  4             6       600   Laptop            250  \n",
       "8   30.00                  0             4       500   Laptop            400  "
      ]
     },
     "execution_count": 90,
     "metadata": {},
     "output_type": "execute_result"
    }
   ],
   "source": [
    "survey_new = survey.drop(survey[survey['Grad Intention'] == 'Undecided'].index)\n",
    "survey_new.head()"
   ]
  },
  {
   "cell_type": "code",
   "execution_count": 91,
   "id": "01097d57",
   "metadata": {},
   "outputs": [
    {
     "data": {
      "text/html": [
       "<div>\n",
       "<style scoped>\n",
       "    .dataframe tbody tr th:only-of-type {\n",
       "        vertical-align: middle;\n",
       "    }\n",
       "\n",
       "    .dataframe tbody tr th {\n",
       "        vertical-align: top;\n",
       "    }\n",
       "\n",
       "    .dataframe thead th {\n",
       "        text-align: right;\n",
       "    }\n",
       "</style>\n",
       "<table border=\"1\" class=\"dataframe\">\n",
       "  <thead>\n",
       "    <tr style=\"text-align: right;\">\n",
       "      <th>Grad Intention</th>\n",
       "      <th>No</th>\n",
       "      <th>Yes</th>\n",
       "      <th>All</th>\n",
       "    </tr>\n",
       "    <tr>\n",
       "      <th>Gender</th>\n",
       "      <th></th>\n",
       "      <th></th>\n",
       "      <th></th>\n",
       "    </tr>\n",
       "  </thead>\n",
       "  <tbody>\n",
       "    <tr>\n",
       "      <th>Female</th>\n",
       "      <td>9</td>\n",
       "      <td>11</td>\n",
       "      <td>20</td>\n",
       "    </tr>\n",
       "    <tr>\n",
       "      <th>Male</th>\n",
       "      <td>3</td>\n",
       "      <td>17</td>\n",
       "      <td>20</td>\n",
       "    </tr>\n",
       "    <tr>\n",
       "      <th>All</th>\n",
       "      <td>12</td>\n",
       "      <td>28</td>\n",
       "      <td>40</td>\n",
       "    </tr>\n",
       "  </tbody>\n",
       "</table>\n",
       "</div>"
      ],
      "text/plain": [
       "Grad Intention  No  Yes  All\n",
       "Gender                      \n",
       "Female           9   11   20\n",
       "Male             3   17   20\n",
       "All             12   28   40"
      ]
     },
     "execution_count": 91,
     "metadata": {},
     "output_type": "execute_result"
    }
   ],
   "source": [
    "data_crosstab8 =pd.crosstab(survey_new['Gender'] , survey_new['Grad Intention'] ,margins =True)\n",
    "data_crosstab8"
   ]
  },
  {
   "cell_type": "code",
   "execution_count": 92,
   "id": "b1122582",
   "metadata": {},
   "outputs": [
    {
     "data": {
      "text/html": [
       "<div>\n",
       "<style scoped>\n",
       "    .dataframe tbody tr th:only-of-type {\n",
       "        vertical-align: middle;\n",
       "    }\n",
       "\n",
       "    .dataframe tbody tr th {\n",
       "        vertical-align: top;\n",
       "    }\n",
       "\n",
       "    .dataframe thead th {\n",
       "        text-align: right;\n",
       "    }\n",
       "</style>\n",
       "<table border=\"1\" class=\"dataframe\">\n",
       "  <thead>\n",
       "    <tr style=\"text-align: right;\">\n",
       "      <th>Grad Intention</th>\n",
       "      <th>No</th>\n",
       "      <th>Yes</th>\n",
       "    </tr>\n",
       "    <tr>\n",
       "      <th>Gender</th>\n",
       "      <th></th>\n",
       "      <th></th>\n",
       "    </tr>\n",
       "  </thead>\n",
       "  <tbody>\n",
       "    <tr>\n",
       "      <th>Female</th>\n",
       "      <td>0.45</td>\n",
       "      <td>0.55</td>\n",
       "    </tr>\n",
       "    <tr>\n",
       "      <th>Male</th>\n",
       "      <td>0.15</td>\n",
       "      <td>0.85</td>\n",
       "    </tr>\n",
       "    <tr>\n",
       "      <th>All</th>\n",
       "      <td>0.30</td>\n",
       "      <td>0.70</td>\n",
       "    </tr>\n",
       "  </tbody>\n",
       "</table>\n",
       "</div>"
      ],
      "text/plain": [
       "Grad Intention   No  Yes\n",
       "Gender                  \n",
       "Female         0.45 0.55\n",
       "Male           0.15 0.85\n",
       "All            0.30 0.70"
      ]
     },
     "execution_count": 92,
     "metadata": {},
     "output_type": "execute_result"
    }
   ],
   "source": [
    "data_crosstab9 =pd.crosstab(survey_new['Gender'] , survey_new['Grad Intention'] ,margins =True, normalize='index')\n",
    "data_crosstab9"
   ]
  },
  {
   "cell_type": "code",
   "execution_count": 93,
   "id": "9ce0c657",
   "metadata": {},
   "outputs": [],
   "source": [
    "#from contingency table"
   ]
  },
  {
   "cell_type": "code",
   "execution_count": 94,
   "id": "af631ebb",
   "metadata": {},
   "outputs": [
    {
     "data": {
      "text/plain": [
       "0.5"
      ]
     },
     "execution_count": 94,
     "metadata": {},
     "output_type": "execute_result"
    }
   ],
   "source": [
    "prob_female = 20/40\n",
    "prob_female "
   ]
  },
  {
   "cell_type": "code",
   "execution_count": 95,
   "id": "64ff4f0d",
   "metadata": {},
   "outputs": [
    {
     "data": {
      "text/plain": [
       "0.55"
      ]
     },
     "execution_count": 95,
     "metadata": {},
     "output_type": "execute_result"
    }
   ],
   "source": [
    "prob_female_int_grad = 11/20\n",
    "prob_female_int_grad"
   ]
  },
  {
   "cell_type": "code",
   "execution_count": 96,
   "id": "01b76861",
   "metadata": {},
   "outputs": [],
   "source": [
    "#prob_female != prob_female_int_grad, therefore the events are not independant events"
   ]
  },
  {
   "cell_type": "markdown",
   "id": "04215d47",
   "metadata": {},
   "source": [
    "## 2.7. Note that there are four numerical (continuous) variables in the data set, GPA, Salary, Spending, and Text Messages.\n",
    "## Answer the following questions based on the data"
   ]
  },
  {
   "cell_type": "markdown",
   "id": "7e553a1d",
   "metadata": {},
   "source": [
    "### 2.7.1. If a student is chosen randomly, what is the probability that his/her GPA is less than 3?"
   ]
  },
  {
   "cell_type": "code",
   "execution_count": 98,
   "id": "dbe852a4",
   "metadata": {},
   "outputs": [
    {
     "name": "stdout",
     "output_type": "stream",
     "text": [
      "17\n"
     ]
    }
   ],
   "source": [
    "No_of_stud_less_3 = len(survey.loc[survey['GPA'] < 3])\n",
    "print(No_of_stud_less_3)"
   ]
  },
  {
   "cell_type": "code",
   "execution_count": 99,
   "id": "be78eeb2",
   "metadata": {},
   "outputs": [
    {
     "data": {
      "text/plain": [
       "27.419354838709676"
      ]
     },
     "execution_count": 99,
     "metadata": {},
     "output_type": "execute_result"
    }
   ],
   "source": [
    "total_no_of_students = 62\n",
    "prob_gpa_less_3 = (No_of_stud_less_3/total_no_of_students)*100\n",
    "prob_gpa_less_3"
   ]
  },
  {
   "cell_type": "markdown",
   "id": "f88cdec9",
   "metadata": {},
   "source": [
    "### 2.7.2. Find the conditional probability that a randomly selected male earns 50 or more. Find the conditional probability that a randomly selected female earns 50 or more."
   ]
  },
  {
   "cell_type": "code",
   "execution_count": 104,
   "id": "a4ac6745",
   "metadata": {},
   "outputs": [
    {
     "data": {
      "text/plain": [
       "14"
      ]
     },
     "execution_count": 104,
     "metadata": {},
     "output_type": "execute_result"
    }
   ],
   "source": [
    "male_earn_more50 = ((survey['Gender']=='Male') & (survey['Salary'] >= 50)).sum()\n",
    "male_earn_more50"
   ]
  },
  {
   "cell_type": "code",
   "execution_count": 105,
   "id": "a0d0e9e2",
   "metadata": {},
   "outputs": [
    {
     "data": {
      "text/plain": [
       "48.275862068965516"
      ]
     },
     "execution_count": 105,
     "metadata": {},
     "output_type": "execute_result"
    }
   ],
   "source": [
    "total_no_male = 29\n",
    "prob_male_more50 = (male_earn_more50/total_no_male)*100\n",
    "prob_male_more50"
   ]
  },
  {
   "cell_type": "code",
   "execution_count": 106,
   "id": "12ebb0c7",
   "metadata": {},
   "outputs": [
    {
     "data": {
      "text/plain": [
       "18"
      ]
     },
     "execution_count": 106,
     "metadata": {},
     "output_type": "execute_result"
    }
   ],
   "source": [
    "female_earn_more50 = ((survey['Gender']=='Female') & (survey['Salary'] >= 50)).sum()\n",
    "female_earn_more50"
   ]
  },
  {
   "cell_type": "code",
   "execution_count": 108,
   "id": "f82a4d14",
   "metadata": {},
   "outputs": [
    {
     "data": {
      "text/plain": [
       "54.54545454545454"
      ]
     },
     "execution_count": 108,
     "metadata": {},
     "output_type": "execute_result"
    }
   ],
   "source": [
    "total_no_female = 33\n",
    "prob_female_more50 = (female_earn_more50/total_no_female)*100\n",
    "prob_female_more50"
   ]
  },
  {
   "cell_type": "markdown",
   "id": "c47638f3",
   "metadata": {},
   "source": [
    "## 2.8. Note that there are four numerical (continuous) variables in the data set, GPA, Salary, Spending, and Text Messages. For each of them comment whether they follow a normal distribution. Write a note summarizing your conclusions"
   ]
  },
  {
   "cell_type": "code",
   "execution_count": 112,
   "id": "ed8b6013",
   "metadata": {},
   "outputs": [
    {
     "name": "stderr",
     "output_type": "stream",
     "text": [
      "C:\\Users\\USER\\anaconda3\\lib\\site-packages\\seaborn\\distributions.py:2619: FutureWarning: `distplot` is a deprecated function and will be removed in a future version. Please adapt your code to use either `displot` (a figure-level function with similar flexibility) or `histplot` (an axes-level function for histograms).\n",
      "  warnings.warn(msg, FutureWarning)\n"
     ]
    },
    {
     "name": "stdout",
     "output_type": "stream",
     "text": [
      "skew value of GPA is -0.3146000894506981\n",
      "Shapiro resul of GPA is  ShapiroResult(statistic=0.9685361981391907, pvalue=0.11204058676958084)\n"
     ]
    },
    {
     "name": "stderr",
     "output_type": "stream",
     "text": [
      "C:\\Users\\USER\\anaconda3\\lib\\site-packages\\seaborn\\distributions.py:2619: FutureWarning: `distplot` is a deprecated function and will be removed in a future version. Please adapt your code to use either `displot` (a figure-level function with similar flexibility) or `histplot` (an axes-level function for histograms).\n",
      "  warnings.warn(msg, FutureWarning)\n",
      "C:\\Users\\USER\\anaconda3\\lib\\site-packages\\seaborn\\distributions.py:2619: FutureWarning: `distplot` is a deprecated function and will be removed in a future version. Please adapt your code to use either `displot` (a figure-level function with similar flexibility) or `histplot` (an axes-level function for histograms).\n",
      "  warnings.warn(msg, FutureWarning)\n"
     ]
    },
    {
     "name": "stdout",
     "output_type": "stream",
     "text": [
      "skew value of Salary is 0.5347008436225946\n",
      "Shapiro resul of Salary is  ShapiroResult(statistic=0.9565856456756592, pvalue=0.028000956401228905)\n",
      "skew value of Spending is 1.5859147414045331\n",
      "Shapiro resul of Spending is  ShapiroResult(statistic=0.8777452111244202, pvalue=1.6854661225806922e-05)\n"
     ]
    },
    {
     "name": "stderr",
     "output_type": "stream",
     "text": [
      "C:\\Users\\USER\\anaconda3\\lib\\site-packages\\seaborn\\distributions.py:2619: FutureWarning: `distplot` is a deprecated function and will be removed in a future version. Please adapt your code to use either `displot` (a figure-level function with similar flexibility) or `histplot` (an axes-level function for histograms).\n",
      "  warnings.warn(msg, FutureWarning)\n"
     ]
    },
    {
     "name": "stdout",
     "output_type": "stream",
     "text": [
      "skew value of Text Message is 1.2958079731054333\n",
      "Shapiro resul of Text Messages is  ShapiroResult(statistic=0.8594191074371338, pvalue=4.324040673964191e-06)\n"
     ]
    },
    {
     "data": {
      "image/png": "[encoded data removed]",
      "text/plain": [
       "<Figure size 864x864 with 4 Axes>"
      ]
     },
     "metadata": {},
     "output_type": "display_data"
    }
   ],
   "source": [
    "plt.figure(figsize=[12,12])\n",
    "\n",
    "plt.subplot(2, 2, 1)\n",
    "sns.distplot(survey['GPA'], bins = 10, kde=True);\n",
    "print('skew value of GPA is', survey['GPA'].skew())\n",
    "print('Shapiro resul of GPA is ',shapiro(survey[\"GPA\"]))\n",
    "\n",
    "plt.subplot(2, 2, 2)\n",
    "sns.distplot(survey['Salary'], bins = 10, kde=True);\n",
    "print('skew value of Salary is', survey['Salary'].skew())\n",
    "print('Shapiro resul of Salary is ',shapiro(survey[\"Salary\"]))\n",
    "\n",
    "plt.subplot(2, 2, 3)\n",
    "sns.distplot(survey['Spending'], bins = 10, kde=True);\n",
    "print('skew value of Spending is', survey['Spending'].skew())\n",
    "print('Shapiro resul of Spending is ',shapiro(survey[\"Spending\"]))\n",
    "\n",
    "plt.subplot(2, 2, 4)\n",
    "sns.distplot(survey['Text Messages'], bins = 10, kde=True);\n",
    "print('skew value of Text Message is', survey['Text Messages'].skew())\n",
    "print('Shapiro resul of Text Messages is ',shapiro(survey[\"Text Messages\"]))\n",
    "\n",
    "plt.show()"
   ]
  },
  {
   "cell_type": "markdown",
   "id": "962aaf65",
   "metadata": {},
   "source": [
    "# Problem 3"
   ]
  },
  {
   "cell_type": "markdown",
   "id": "02890b10",
   "metadata": {},
   "source": [
    "### An important quality characteristic used by the manufacturers of ABC asphalt shingles is the amount of moisture the shingles contain when they are packaged. Customers may feel that they have purchased a product lacking in quality if they find moisture and wet shingles inside the packaging.   In some cases, excessive moisture can cause the granules attached to the shingles for texture and coloring purposes to fall off the shingles resulting in appearance problems. To monitor the amount of moisture present, the company conducts moisture tests. A shingle is weighed and then dried. The shingle is then reweighed, and based on the amount of moisture taken out of the product, the pounds of moisture per 100 square feet are calculated. The company would like to show that the mean moisture content is less than 0.35 pounds per 100 square feet"
   ]
  },
  {
   "cell_type": "markdown",
   "id": "91e6a7e2",
   "metadata": {},
   "source": [
    "### The file (A & B shingles.csv) includes 36 measurements (in pounds per 100 square feet) for A shingles and 31 for B shingles."
   ]
  },
  {
   "cell_type": "code",
   "execution_count": 113,
   "id": "8163bb20",
   "metadata": {},
   "outputs": [
    {
     "data": {
      "text/html": [
       "<div>\n",
       "<style scoped>\n",
       "    .dataframe tbody tr th:only-of-type {\n",
       "        vertical-align: middle;\n",
       "    }\n",
       "\n",
       "    .dataframe tbody tr th {\n",
       "        vertical-align: top;\n",
       "    }\n",
       "\n",
       "    .dataframe thead th {\n",
       "        text-align: right;\n",
       "    }\n",
       "</style>\n",
       "<table border=\"1\" class=\"dataframe\">\n",
       "  <thead>\n",
       "    <tr style=\"text-align: right;\">\n",
       "      <th></th>\n",
       "      <th>A</th>\n",
       "      <th>B</th>\n",
       "    </tr>\n",
       "  </thead>\n",
       "  <tbody>\n",
       "    <tr>\n",
       "      <th>0</th>\n",
       "      <td>0.44</td>\n",
       "      <td>0.14</td>\n",
       "    </tr>\n",
       "    <tr>\n",
       "      <th>1</th>\n",
       "      <td>0.61</td>\n",
       "      <td>0.15</td>\n",
       "    </tr>\n",
       "    <tr>\n",
       "      <th>2</th>\n",
       "      <td>0.47</td>\n",
       "      <td>0.31</td>\n",
       "    </tr>\n",
       "    <tr>\n",
       "      <th>3</th>\n",
       "      <td>0.30</td>\n",
       "      <td>0.16</td>\n",
       "    </tr>\n",
       "    <tr>\n",
       "      <th>4</th>\n",
       "      <td>0.15</td>\n",
       "      <td>0.37</td>\n",
       "    </tr>\n",
       "  </tbody>\n",
       "</table>\n",
       "</div>"
      ],
      "text/plain": [
       "     A    B\n",
       "0 0.44 0.14\n",
       "1 0.61 0.15\n",
       "2 0.47 0.31\n",
       "3 0.30 0.16\n",
       "4 0.15 0.37"
      ]
     },
     "execution_count": 113,
     "metadata": {},
     "output_type": "execute_result"
    }
   ],
   "source": [
    "shingles= pd.read_csv('A+%26+B+shingles.csv')\n",
    "shingles.head()"
   ]
  },
  {
   "cell_type": "code",
   "execution_count": 114,
   "id": "b37c6ff2",
   "metadata": {},
   "outputs": [
    {
     "name": "stdout",
     "output_type": "stream",
     "text": [
      "<class 'pandas.core.frame.DataFrame'>\n",
      "RangeIndex: 36 entries, 0 to 35\n",
      "Data columns (total 2 columns):\n",
      " #   Column  Non-Null Count  Dtype  \n",
      "---  ------  --------------  -----  \n",
      " 0   A       36 non-null     float64\n",
      " 1   B       31 non-null     float64\n",
      "dtypes: float64(2)\n",
      "memory usage: 704.0 bytes\n"
     ]
    }
   ],
   "source": [
    "shingles.info()"
   ]
  },
  {
   "cell_type": "code",
   "execution_count": 117,
   "id": "8aa66a49",
   "metadata": {},
   "outputs": [
    {
     "data": {
      "text/html": [
       "<div>\n",
       "<style scoped>\n",
       "    .dataframe tbody tr th:only-of-type {\n",
       "        vertical-align: middle;\n",
       "    }\n",
       "\n",
       "    .dataframe tbody tr th {\n",
       "        vertical-align: top;\n",
       "    }\n",
       "\n",
       "    .dataframe thead th {\n",
       "        text-align: right;\n",
       "    }\n",
       "</style>\n",
       "<table border=\"1\" class=\"dataframe\">\n",
       "  <thead>\n",
       "    <tr style=\"text-align: right;\">\n",
       "      <th></th>\n",
       "      <th>count</th>\n",
       "      <th>mean</th>\n",
       "      <th>std</th>\n",
       "      <th>min</th>\n",
       "      <th>25%</th>\n",
       "      <th>50%</th>\n",
       "      <th>75%</th>\n",
       "      <th>max</th>\n",
       "    </tr>\n",
       "  </thead>\n",
       "  <tbody>\n",
       "    <tr>\n",
       "      <th>A</th>\n",
       "      <td>36.00</td>\n",
       "      <td>0.32</td>\n",
       "      <td>0.14</td>\n",
       "      <td>0.13</td>\n",
       "      <td>0.21</td>\n",
       "      <td>0.29</td>\n",
       "      <td>0.39</td>\n",
       "      <td>0.72</td>\n",
       "    </tr>\n",
       "    <tr>\n",
       "      <th>B</th>\n",
       "      <td>31.00</td>\n",
       "      <td>0.27</td>\n",
       "      <td>0.14</td>\n",
       "      <td>0.10</td>\n",
       "      <td>0.16</td>\n",
       "      <td>0.23</td>\n",
       "      <td>0.40</td>\n",
       "      <td>0.58</td>\n",
       "    </tr>\n",
       "  </tbody>\n",
       "</table>\n",
       "</div>"
      ],
      "text/plain": [
       "   count  mean  std  min  25%  50%  75%  max\n",
       "A  36.00  0.32 0.14 0.13 0.21 0.29 0.39 0.72\n",
       "B  31.00  0.27 0.14 0.10 0.16 0.23 0.40 0.58"
      ]
     },
     "execution_count": 117,
     "metadata": {},
     "output_type": "execute_result"
    }
   ],
   "source": [
    "shingles.describe(include = 'all').T"
   ]
  },
  {
   "cell_type": "markdown",
   "id": "b87fa028",
   "metadata": {},
   "source": [
    "## 3.1 Do you think there is evidence that means moisture contents in both types of shingles are within the permissible limits? State your conclusions clearly showing all steps."
   ]
  },
  {
   "cell_type": "markdown",
   "id": "1359adca",
   "metadata": {},
   "source": [
    "### Sample A"
   ]
  },
  {
   "cell_type": "markdown",
   "id": "c9a449b8",
   "metadata": {},
   "source": [
    "### Step 1: Define Null and alternate hypothesis"
   ]
  },
  {
   "cell_type": "markdown",
   "id": "81e116ce",
   "metadata": {},
   "source": [
    "#### i) Null hypothesis (H0) = mean moisture content ≤ 0.35 \n",
    "#### ii) Alternate hypothesis (H1) = mean moisture content > 0.35 "
   ]
  },
  {
   "cell_type": "markdown",
   "id": "ccb07c02",
   "metadata": {},
   "source": [
    "### Step 2: Decide the significance level"
   ]
  },
  {
   "cell_type": "markdown",
   "id": "ba159a2b",
   "metadata": {},
   "source": [
    "#### Since the α value is not given we assume α = 0.05 "
   ]
  },
  {
   "cell_type": "markdown",
   "id": "dc87fbfe",
   "metadata": {},
   "source": [
    "### Step 3: Identify the test stastistic"
   ]
  },
  {
   "cell_type": "markdown",
   "id": "5b57b313",
   "metadata": {},
   "source": [
    "#### Since we don’t know the population standard deviation and the sample size (n) of sample A is less ie, 36 so we can proceed with 1 sample t-test. Test is one tail test"
   ]
  },
  {
   "cell_type": "markdown",
   "id": "9dec841c",
   "metadata": {},
   "source": [
    "### Step 4: Calculate the statistic and p-value "
   ]
  },
  {
   "cell_type": "code",
   "execution_count": 140,
   "id": "e9b581da",
   "metadata": {},
   "outputs": [
    {
     "name": "stdout",
     "output_type": "stream",
     "text": [
      "tstat -1.4735046253382782\n",
      "P Value 0.07477633144907513\n"
     ]
    }
   ],
   "source": [
    "t_statistic, p_value = ttest_1samp(shingles['A'],0.35)\n",
    "print('tstat',t_statistic)    \n",
    "print('P Value',p_value/2)"
   ]
  },
  {
   "cell_type": "markdown",
   "id": "4cca27d2",
   "metadata": {},
   "source": [
    "### Step 5: Decide to reject or accept the null hypothesis"
   ]
  },
  {
   "cell_type": "code",
   "execution_count": 142,
   "id": "9dc681be",
   "metadata": {},
   "outputs": [
    {
     "name": "stdout",
     "output_type": "stream",
     "text": [
      "Level of significance: 0.05\n",
      "We have no evidence to reject the null hypothesis since p value > Level of significance\n",
      "Our one-sample t-test p-value= 0.07477633144907513\n"
     ]
    }
   ],
   "source": [
    "# p_value < 0.05 => alternative hypothesis:\n",
    "\n",
    "alpha_value = 0.05 # Level of significance\n",
    "print('Level of significance: %.2f' %alpha_value)\n",
    "\n",
    "if (p_value/2) < alpha_value: \n",
    "    print('We have evidence to reject the null hypothesis since p value < Level of significance')\n",
    "else:\n",
    "    print('We have no evidence to reject the null hypothesis since p value > Level of significance') \n",
    "\n",
    "print (\"Our one-sample t-test p-value=\", p_value/2)\n",
    "    "
   ]
  },
  {
   "cell_type": "markdown",
   "id": "f762b578",
   "metadata": {},
   "source": []
  },
  {
   "cell_type": "markdown",
   "id": "12f2d8f9",
   "metadata": {},
   "source": [
    "### Sample B"
   ]
  },
  {
   "cell_type": "markdown",
   "id": "c174a3c0",
   "metadata": {},
   "source": [
    "### Step 1: Define Null and alternate hypothesis"
   ]
  },
  {
   "cell_type": "markdown",
   "id": "14f8cf1b",
   "metadata": {},
   "source": [
    "#### i) Null hypothesis (H0) = mean moisture content ≤ 0.35 \n",
    "#### ii) Alternate hypothesis (H1) = mean moisture content > 0.35 "
   ]
  },
  {
   "cell_type": "markdown",
   "id": "5667884d",
   "metadata": {},
   "source": [
    "### Step 2: Decide the significance level"
   ]
  },
  {
   "cell_type": "markdown",
   "id": "dd6aafb8",
   "metadata": {},
   "source": [
    "#### Since the α value is not given we assume α = 0.05 "
   ]
  },
  {
   "cell_type": "markdown",
   "id": "4d8a665d",
   "metadata": {},
   "source": [
    "### Step 3: Identify the test stastistic"
   ]
  },
  {
   "cell_type": "markdown",
   "id": "27a5824a",
   "metadata": {},
   "source": [
    "#### Since we don’t know the population standard deviation and the sample size (n) of sample B is less ie, 31 so we can proceed with 1 sample t-test. Test is one tail test"
   ]
  },
  {
   "cell_type": "markdown",
   "id": "a275f025",
   "metadata": {},
   "source": [
    "### Step 4: Calculate the statistic and p-value "
   ]
  },
  {
   "cell_type": "code",
   "execution_count": 143,
   "id": "ad9b55ff",
   "metadata": {},
   "outputs": [
    {
     "name": "stdout",
     "output_type": "stream",
     "text": [
      "tstat -3.1003313069986995\n",
      "P Value 0.0020904774003191813\n"
     ]
    }
   ],
   "source": [
    "t_statistic, p_value = ttest_1samp(shingles['B'].dropna(),0.35)\n",
    "print('tstat',t_statistic)    \n",
    "print('P Value',p_value/2)"
   ]
  },
  {
   "cell_type": "markdown",
   "id": "20aed55c",
   "metadata": {},
   "source": [
    "### Step 5: Decide to reject or accept the null hypothesis"
   ]
  },
  {
   "cell_type": "code",
   "execution_count": 144,
   "id": "9593e43c",
   "metadata": {},
   "outputs": [
    {
     "name": "stdout",
     "output_type": "stream",
     "text": [
      "Level of significance: 0.05\n",
      "We have evidence to reject the null hypothesis since p value < Level of significance\n",
      "Our one-sample t-test p-value= 0.0020904774003191813\n"
     ]
    }
   ],
   "source": [
    "# p_value < 0.05 => alternative hypothesis:\n",
    "\n",
    "alpha_value = 0.05 # Level of significance\n",
    "print('Level of significance: %.2f' %alpha_value)\n",
    "\n",
    "if (p_value/2) < alpha_value: \n",
    "    print('We have evidence to reject the null hypothesis since p value < Level of significance')\n",
    "else:\n",
    "    print('We have no evidence to reject the null hypothesis since p value > Level of significance') \n",
    "\n",
    "print (\"Our one-sample t-test p-value=\", p_value/2)\n",
    "    "
   ]
  },
  {
   "cell_type": "markdown",
   "id": "a7f2db23",
   "metadata": {},
   "source": [
    "## 3.2 Do you think that the population mean for shingles A and B are equal? Form the hypothesis and conduct the test of the hypothesis. What assumption do you need to check before the test for equality of means is performed"
   ]
  },
  {
   "cell_type": "markdown",
   "id": "1b122250",
   "metadata": {},
   "source": [
    "### Step 1: Define Null and alternate hypothesis"
   ]
  },
  {
   "cell_type": "markdown",
   "id": "5b38f696",
   "metadata": {},
   "source": [
    "#### i) Null hypothesis (H0): µ (Shingle A) = µ (Shingle B) \n",
    "#### ii) Alternate hypothesis (H1): µ (Shingle A) ≠ µ (Shingle B) "
   ]
  },
  {
   "cell_type": "markdown",
   "id": "6fc4a6c4",
   "metadata": {},
   "source": [
    "### Step 2: Decide the significance level"
   ]
  },
  {
   "cell_type": "markdown",
   "id": "d9c90623",
   "metadata": {},
   "source": [
    "#### Since the α value is not given we assume α = 0.05 "
   ]
  },
  {
   "cell_type": "markdown",
   "id": "44683e67",
   "metadata": {},
   "source": [
    "### Step 3: Identify the test stastistic"
   ]
  },
  {
   "cell_type": "markdown",
   "id": "b4937a2e",
   "metadata": {},
   "source": [
    "####    We have two samples here and we do not know the standard deviation and sample size is very less so let us follow independent two sample t-test. Therefore it is a two tail test "
   ]
  },
  {
   "cell_type": "markdown",
   "id": "243707de",
   "metadata": {},
   "source": [
    "### Step 4: Calculate the statistic and p-value "
   ]
  },
  {
   "cell_type": "code",
   "execution_count": 145,
   "id": "d8efd08b",
   "metadata": {},
   "outputs": [
    {
     "name": "stdout",
     "output_type": "stream",
     "text": [
      "tstat 1.289628271966112\n",
      "P Value 0.2017496571835328\n"
     ]
    }
   ],
   "source": [
    "t_statistic, p_value  = ttest_ind(shingles['A'],shingles['B'].dropna())\n",
    "print('tstat',t_statistic)    \n",
    "print('P Value',p_value)"
   ]
  },
  {
   "cell_type": "markdown",
   "id": "12e9710e",
   "metadata": {},
   "source": [
    "### Step 5: Decide to reject or accept the null hypothesis"
   ]
  },
  {
   "cell_type": "code",
   "execution_count": 146,
   "id": "e8e0d466",
   "metadata": {},
   "outputs": [
    {
     "name": "stdout",
     "output_type": "stream",
     "text": [
      "two-sample t-test p-value= 0.2017496571835328\n",
      "We do not have enough evidence to reject the null hypothesis in favour of alternative hypothesis\n",
      "We conclude that the population mean of shingles A and B are equal\n"
     ]
    }
   ],
   "source": [
    "# p_value < 0.05 => alternative hypothesis:\n",
    "# they don't have the same mean at the 5% significance level\n",
    "print (\"two-sample t-test p-value=\", p_value)\n",
    "\n",
    "alpha_level = 0.05\n",
    "\n",
    "if p_value < alpha_level:\n",
    "    print('We have enough evidence to reject the null hypothesis in favour of alternative hypothesis')\n",
    "    print('We conclude that the population mean of shingles A and B are not equal')\n",
    "else:\n",
    "    print('We do not have enough evidence to reject the null hypothesis in favour of alternative hypothesis')\n",
    "    print('We conclude that the population mean of shingles A and B are equal')"
   ]
  }
 ],
 "metadata": {
  "kernelspec": {
   "display_name": "Python 3 (ipykernel)",
   "language": "python",
   "name": "python3"
  },
  "language_info": {
   "codemirror_mode": {
    "name": "ipython",
    "version": 3
   },
   "file_extension": ".py",
   "mimetype": "text/x-python",
   "name": "python",
   "nbconvert_exporter": "python",
   "pygments_lexer": "ipython3",
   "version": "3.9.12"
  }
 },
 "nbformat": 4,
 "nbformat_minor": 5
}
